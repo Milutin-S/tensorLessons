{
 "cells": [
  {
   "attachments": {},
   "cell_type": "markdown",
   "metadata": {},
   "source": [
    "# Multi-Class Classification\n",
    "Dataset: MNIST\n",
    "- 10 output classes, one for each digit"
   ]
  },
  {
   "attachments": {},
   "cell_type": "markdown",
   "metadata": {},
   "source": [
    "## Import modules"
   ]
  },
  {
   "cell_type": "code",
   "execution_count": 1,
   "metadata": {},
   "outputs": [],
   "source": [
    "import numpy as np\n",
    "import pandas as pd\n",
    "import tensorflow as tf\n",
    "from tensorflow.keras import layers\n",
    "from matplotlib import pyplot as plt\n",
    "\n",
    "pd.options.display.max_rows = 10\n",
    "pd.options.display.float_format = \"{:.1f}\".format\n",
    "\n",
    "np.set_printoptions(linewidth=200)"
   ]
  },
  {
   "attachments": {},
   "cell_type": "markdown",
   "metadata": {},
   "source": [
    "## Load the dataset"
   ]
  },
  {
   "cell_type": "code",
   "execution_count": 2,
   "metadata": {},
   "outputs": [
    {
     "name": "stdout",
     "output_type": "stream",
     "text": [
      "Downloading data from https://storage.googleapis.com/tensorflow/tf-keras-datasets/mnist.npz\n",
      "11490434/11490434 [==============================] - 2s 0us/step\n"
     ]
    }
   ],
   "source": [
    "(x_train, y_train), (x_test, y_test) = tf.keras.datasets.mnist.load_data()"
   ]
  },
  {
   "attachments": {},
   "cell_type": "markdown",
   "metadata": {},
   "source": [
    "### View the dataset"
   ]
  },
  {
   "cell_type": "code",
   "execution_count": 3,
   "metadata": {},
   "outputs": [
    {
     "data": {
      "text/plain": [
       "array([[  0,   0,   0,   0,   0,   0,   0,   0,   0,   0,   0,   0,   0,   0,   0,   0,   0,   0,   0,   0,   0,   0,   0,   0,   0,   0,   0,   0],\n",
       "       [  0,   0,   0,   0,   0,   0,   0,   0,   0,   0,   0,   0,   0,   0,   0,   0,   0,   0,   0,   0,   0,   0,   0,   0,   0,   0,   0,   0],\n",
       "       [  0,   0,   0,   0,   0,   0,   0,   0,   0,   0,   0,   0,   0,   0,   0,   0,   0,   0,   0,   0,   0,   0,   0,   0,   0,   0,   0,   0],\n",
       "       [  0,   0,   0,   0,   0,   0,   0,   0,   0,   0,   0,   0,   0,   0,   0,   0,   0,   0,   0,   0,   0,   0,   0,   0,   0,   0,   0,   0],\n",
       "       [  0,   0,   0,   0,   0,   0,   0,   0,   0,   0,   0,   0,   0,   0,   0,   0,   0,   0,   0,   0,   0,   0,   0,   0,   0,   0,   0,   0],\n",
       "       [  0,   0,   0,   0,   0,   0,   0,   0,   0,   0,   0,   0,   0,   0,   0,   0,   0,   0,   0,   0,   0,   0,   0,   0,   0,   0,   0,   0],\n",
       "       [  0,   0,   0,   0,   0,   0,   0,   0, 127, 100, 156, 239, 224, 177, 213, 159,  70,  13,   0,   0,   0,   0,   0,   0,   0,   0,   0,   0],\n",
       "       [  0,   0,   0,   0,   0,   0,   0, 110, 250, 254, 254, 254, 254, 254, 254, 254, 254, 184,  10,   0,   0,   0,   0,   0,   0,   0,   0,   0],\n",
       "       [  0,   0,   0,   0,   0,   0,   0, 216, 254, 254, 254, 254, 254, 254, 254, 254, 254, 251,  54,   0,   0,   0,   0,   0,   0,   0,   0,   0],\n",
       "       [  0,   0,   0,   0,   0,   0,   0,   3, 131, 197,  68, 137, 101,  83,  41,  70, 221, 254, 108,   0,   0,   0,   0,   0,   0,   0,   0,   0],\n",
       "       [  0,   0,   0,   0,   0,   0,   0,   0,   0,   0,   0,   0,   0,   0,   0,   0,  58, 254, 216,  11,   0,   0,   0,   0,   0,   0,   0,   0],\n",
       "       [  0,   0,   0,   0,   0,   0,   0,   0,   0,   0,   0,   0,   0,   0,   0,   0, 110, 254, 254,  24,   0,   0,   0,   0,   0,   0,   0,   0],\n",
       "       [  0,   0,   0,   0,   0,   0,   0,   0,   0,   0,   0,   0,   0,   0,   4,  83, 247, 254, 192,  10,   0,   0,   0,   0,   0,   0,   0,   0],\n",
       "       [  0,   0,   0,   0,   0,   0,   0,   0,   0,   0,   0,   0,   0,  37, 124, 254, 254, 250,  47,   0,   0,   0,   0,   0,   0,   0,   0,   0],\n",
       "       [  0,   0,   0,   0,   0,   0,   0,   0,   0,   0,   0, 113, 178, 250, 254, 254, 254, 252, 178, 128,  50,   0,   0,   0,   0,   0,   0,   0],\n",
       "       [  0,   0,   0,   0,   0,   0,   0,   0,   0,   0,  69, 252, 254, 254, 254, 254, 254, 254, 254, 254, 153,   0,   0,   0,   0,   0,   0,   0],\n",
       "       [  0,   0,   0,   0,   0,   0,   0,   0,   0,   0, 141, 252, 254, 241, 241, 254, 247, 252, 254, 254, 153,   0,   0,   0,   0,   0,   0,   0],\n",
       "       [  0,   0,   0,   0,   0,   0,   0,   0,   0,   0,   0,  68,  82,   5,   5,  82,  37,  65, 167, 254, 190,   0,   0,   0,   0,   0,   0,   0],\n",
       "       [  0,   0,   0,   0,   0,   0,   0,   0,   0,   0,   0,   0,   0,   0,   0,   0,   0,   0, 162, 254, 153,   0,   0,   0,   0,   0,   0,   0],\n",
       "       [  0,   0,   0,   0,   0,   0,   0,   0,   0,   0,   0,   0,   0,   0,   0,   0,   0,   1, 172, 253,  75,   0,   0,   0,   0,   0,   0,   0],\n",
       "       [  0,   0,   0,   0,   0,   0,   0,   0,   0,   0,   0,   0,   0,   0,   0,   0,   0, 102, 254, 152,   0,   0,   0,   0,   0,   0,   0,   0],\n",
       "       [  0,   0,   0,   0,   0,   0,   0,   0,   0,   0,   0,   0,   0,   0,   0,   0,  38, 230, 216,  20,   0,   0,   0,   0,   0,   0,   0,   0],\n",
       "       [  0,   0,   0,   0,   0,   0,   0,   0,   0,   0,   0,   0,   0,   0,   1,  71, 222, 254, 142,   0,   0,   0,   0,   0,   0,   0,   0,   0],\n",
       "       [  0,   0,   0,   0,   0,   0,   0,   0,   0,   0,   0,   0,   0,   0,  66, 254, 254, 157,   0,   0,   0,   0,   0,   0,   0,   0,   0,   0],\n",
       "       [  0,   0,   0,   0,   0,   0,   0,   0,   4,  34,  34,  78, 161, 226, 249, 254, 154,   6,   0,   0,   0,   0,   0,   0,   0,   0,   0,   0],\n",
       "       [  0,   0,   0,   0,   0,   0,   0,  96, 184, 254, 254, 254, 254, 254, 249,  93,   5,   0,   0,   0,   0,   0,   0,   0,   0,   0,   0,   0],\n",
       "       [  0,   0,   0,   0,   0,   0,   0,   0,   0,   0,   0,   0,   0,   0,   0,   0,   0,   0,   0,   0,   0,   0,   0,   0,   0,   0,   0,   0],\n",
       "       [  0,   0,   0,   0,   0,   0,   0,   0,   0,   0,   0,   0,   0,   0,   0,   0,   0,   0,   0,   0,   0,   0,   0,   0,   0,   0,   0,   0]], dtype=uint8)"
      ]
     },
     "execution_count": 3,
     "metadata": {},
     "output_type": "execute_result"
    }
   ],
   "source": [
    "x_train[2917]"
   ]
  },
  {
   "cell_type": "code",
   "execution_count": 4,
   "metadata": {},
   "outputs": [
    {
     "data": {
      "text/plain": [
       "<matplotlib.image.AxesImage at 0x1989fb550f0>"
      ]
     },
     "execution_count": 4,
     "metadata": {},
     "output_type": "execute_result"
    },
    {
     "data": {
      "image/png": "[encoded data removed]",
      "text/plain": [
       "<Figure size 640x480 with 1 Axes>"
      ]
     },
     "metadata": {},
     "output_type": "display_data"
    }
   ],
   "source": [
    "plt.imshow(x_train[2917])"
   ]
  },
  {
   "attachments": {},
   "cell_type": "markdown",
   "metadata": {},
   "source": [
    "### Normalize feature values\n",
    "From integer between 0-255 ➡️ to a floating-point value between 0-1.0"
   ]
  },
  {
   "cell_type": "code",
   "execution_count": 5,
   "metadata": {},
   "outputs": [
    {
     "name": "stdout",
     "output_type": "stream",
     "text": [
      "[0.         0.         0.         0.         0.         0.         0.         0.55294118 1.         0.66666667 0.11372549 0.         0.         0.         0.         0.         0.         0.\n",
      " 0.         0.         0.         0.         0.         0.         0.         0.         0.         0.        ]\n"
     ]
    }
   ],
   "source": [
    "x_train_normalized = x_train/255.0\n",
    "x_test_normalized = x_test/255.0\n",
    "print(x_train_normalized[2900][10])"
   ]
  },
  {
   "attachments": {},
   "cell_type": "markdown",
   "metadata": {},
   "source": [
    "## Define a plotting function"
   ]
  },
  {
   "cell_type": "code",
   "execution_count": 6,
   "metadata": {},
   "outputs": [
    {
     "name": "stdout",
     "output_type": "stream",
     "text": [
      "Loaded the plot_curve function.\n"
     ]
    }
   ],
   "source": [
    "def plot_curve(epochs, hist, list_of_metrics):\n",
    "    \"\"\"Plot a curve of one or more classification metrics vs. epoch.\"\"\"\n",
    "    # List of metrics should be one of the names shown in:\n",
    "    # https://www.tensorflow.org/tutorials/structured_data/imbalanced_data#define_the_model_and_metrics\n",
    "\n",
    "    plt.figure()\n",
    "    plt.xlabel(\"Epoch\")\n",
    "    plt.ylabel(\"Value\")\n",
    "\n",
    "    for m in list_of_metrics:\n",
    "        x = hist[m]\n",
    "        plt.plot(epochs[1:], x[1:], label=m)\n",
    "    \n",
    "    plt.legend()\n",
    "\n",
    "print(\"Loaded the plot_curve function.\")"
   ]
  },
  {
   "attachments": {},
   "cell_type": "markdown",
   "metadata": {},
   "source": [
    "## Create a deep neural net model"
   ]
  },
  {
   "cell_type": "code",
   "execution_count": 13,
   "metadata": {},
   "outputs": [],
   "source": [
    "def create_model(my_learning_rate):\n",
    "    \"\"\"Create and compile a deep neural net.\"\"\"\n",
    "    model = tf.keras.models.Sequential()\n",
    "\n",
    "    # The features are stored in a two-dimensional 28X28 array. \n",
    "    # Flatten that two-dimensional array into a one-dimensional \n",
    "    # 784-element array.\n",
    "    model.add(tf.keras.layers.Flatten(input_shape=(28, 28)))\n",
    "\n",
    "    # Define the firs hidden layer.\n",
    "    model.add(tf.keras.layers.Dense(units=256, activation='relu'))\n",
    "\n",
    "    # # Define a dropout regularization layer.\n",
    "    # model.add(tf.keras.layers.Dropout(rate=0.2))\n",
    "\n",
    "    # Define the second hidden layer.\n",
    "    model.add(tf.keras.layers.Dense(units=128, activation='relu'))\n",
    "\n",
    "    # Define a dropout regularization layer.\n",
    "    model.add(tf.keras.layers.Dropout(rate=0.2))\n",
    "\n",
    "    # Define the output layer. The units parameter is set to 10 because\n",
    "    # the model must choose among 10 possible output values (representing\n",
    "    # the digits from 0 to 9, inclusive).\n",
    "    model.add(tf.keras.layers.Dense(units=10, activation='softmax'))\n",
    "\n",
    "    # Construct the layers into a model that TensorFlow can execute.  \n",
    "    # Notice that the loss function for multi-class classification\n",
    "    # is different than the loss function for binary classification.\n",
    "    model.compile(optimizer=tf.keras.optimizers.Adam(learning_rate=my_learning_rate),\n",
    "                  loss=\"sparse_categorical_crossentropy\",\n",
    "                  metrics=['accuracy'])\n",
    "    return model\n",
    "\n",
    "def train_model(model, train_features, train_label, epochs, batch_size=None, validation_split=0.1):\n",
    "    \"\"\"Train the model by feeding it data.\"\"\"\n",
    "\n",
    "    history = model.fit(x=train_features, y=train_label, batch_size=batch_size,\n",
    "                        epochs=epochs, shuffle=True,\n",
    "                        validation_split=validation_split)\n",
    "    \n",
    "    # To track the progression of training, gather a snapshot\n",
    "    # of the model's metrics at each epoch.\n",
    "    epochs = history.epoch\n",
    "    hist = pd.DataFrame(history.history)\n",
    "\n",
    "    return epochs, hist"
   ]
  },
  {
   "attachments": {},
   "cell_type": "markdown",
   "metadata": {},
   "source": [
    "### Train the model"
   ]
  },
  {
   "cell_type": "code",
   "execution_count": 14,
   "metadata": {},
   "outputs": [
    {
     "name": "stdout",
     "output_type": "stream",
     "text": [
      "Epoch 1/50\n",
      "12/12 [==============================] - 1s 44ms/step - loss: 1.0375 - accuracy: 0.6983 - val_loss: 0.3365 - val_accuracy: 0.9023\n",
      "Epoch 2/50\n",
      "12/12 [==============================] - 0s 21ms/step - loss: 0.3646 - accuracy: 0.8921 - val_loss: 0.2517 - val_accuracy: 0.9287\n",
      "Epoch 3/50\n",
      "12/12 [==============================] - 0s 19ms/step - loss: 0.2600 - accuracy: 0.9254 - val_loss: 0.1962 - val_accuracy: 0.9424\n",
      "Epoch 4/50\n",
      "12/12 [==============================] - 0s 19ms/step - loss: 0.2054 - accuracy: 0.9405 - val_loss: 0.1617 - val_accuracy: 0.9540\n",
      "Epoch 5/50\n",
      "12/12 [==============================] - 0s 18ms/step - loss: 0.1652 - accuracy: 0.9526 - val_loss: 0.1445 - val_accuracy: 0.9587\n",
      "Epoch 6/50\n",
      "12/12 [==============================] - 0s 19ms/step - loss: 0.1420 - accuracy: 0.9584 - val_loss: 0.1276 - val_accuracy: 0.9613\n",
      "Epoch 7/50\n",
      "12/12 [==============================] - 0s 18ms/step - loss: 0.1197 - accuracy: 0.9652 - val_loss: 0.1171 - val_accuracy: 0.9647\n",
      "Epoch 8/50\n",
      "12/12 [==============================] - 0s 20ms/step - loss: 0.1043 - accuracy: 0.9690 - val_loss: 0.1094 - val_accuracy: 0.9660\n",
      "Epoch 9/50\n",
      "12/12 [==============================] - 0s 18ms/step - loss: 0.0910 - accuracy: 0.9735 - val_loss: 0.1021 - val_accuracy: 0.9688\n",
      "Epoch 10/50\n",
      "12/12 [==============================] - 0s 18ms/step - loss: 0.0811 - accuracy: 0.9756 - val_loss: 0.0979 - val_accuracy: 0.9699\n",
      "Epoch 11/50\n",
      "12/12 [==============================] - 0s 18ms/step - loss: 0.0721 - accuracy: 0.9789 - val_loss: 0.0951 - val_accuracy: 0.9700\n",
      "Epoch 12/50\n",
      "12/12 [==============================] - 0s 20ms/step - loss: 0.0643 - accuracy: 0.9802 - val_loss: 0.0919 - val_accuracy: 0.9714\n",
      "Epoch 13/50\n",
      "12/12 [==============================] - 0s 19ms/step - loss: 0.0564 - accuracy: 0.9838 - val_loss: 0.0874 - val_accuracy: 0.9741\n",
      "Epoch 14/50\n",
      "12/12 [==============================] - 0s 18ms/step - loss: 0.0514 - accuracy: 0.9854 - val_loss: 0.0869 - val_accuracy: 0.9738\n",
      "Epoch 15/50\n",
      "12/12 [==============================] - 0s 18ms/step - loss: 0.0452 - accuracy: 0.9869 - val_loss: 0.0860 - val_accuracy: 0.9743\n",
      "Epoch 16/50\n",
      "12/12 [==============================] - 0s 18ms/step - loss: 0.0423 - accuracy: 0.9878 - val_loss: 0.0839 - val_accuracy: 0.9748\n",
      "Epoch 17/50\n",
      "12/12 [==============================] - 0s 19ms/step - loss: 0.0376 - accuracy: 0.9891 - val_loss: 0.0842 - val_accuracy: 0.9747\n",
      "Epoch 18/50\n",
      "12/12 [==============================] - 0s 18ms/step - loss: 0.0337 - accuracy: 0.9902 - val_loss: 0.0832 - val_accuracy: 0.9758\n",
      "Epoch 19/50\n",
      "12/12 [==============================] - 0s 17ms/step - loss: 0.0297 - accuracy: 0.9915 - val_loss: 0.0842 - val_accuracy: 0.9762\n",
      "Epoch 20/50\n",
      "12/12 [==============================] - 0s 18ms/step - loss: 0.0264 - accuracy: 0.9927 - val_loss: 0.0824 - val_accuracy: 0.9765\n",
      "Epoch 21/50\n",
      "12/12 [==============================] - 0s 18ms/step - loss: 0.0233 - accuracy: 0.9940 - val_loss: 0.0840 - val_accuracy: 0.9763\n",
      "Epoch 22/50\n",
      "12/12 [==============================] - 0s 19ms/step - loss: 0.0215 - accuracy: 0.9942 - val_loss: 0.0842 - val_accuracy: 0.9778\n",
      "Epoch 23/50\n",
      "12/12 [==============================] - 0s 18ms/step - loss: 0.0184 - accuracy: 0.9954 - val_loss: 0.0830 - val_accuracy: 0.9762\n",
      "Epoch 24/50\n",
      "12/12 [==============================] - 0s 19ms/step - loss: 0.0175 - accuracy: 0.9952 - val_loss: 0.0833 - val_accuracy: 0.9762\n",
      "Epoch 25/50\n",
      "12/12 [==============================] - 0s 18ms/step - loss: 0.0158 - accuracy: 0.9959 - val_loss: 0.0871 - val_accuracy: 0.9770\n",
      "Epoch 26/50\n",
      "12/12 [==============================] - 0s 19ms/step - loss: 0.0139 - accuracy: 0.9965 - val_loss: 0.0849 - val_accuracy: 0.9769\n",
      "Epoch 27/50\n",
      "12/12 [==============================] - 0s 18ms/step - loss: 0.0134 - accuracy: 0.9967 - val_loss: 0.0869 - val_accuracy: 0.9767\n",
      "Epoch 28/50\n",
      "12/12 [==============================] - 0s 18ms/step - loss: 0.0115 - accuracy: 0.9975 - val_loss: 0.0864 - val_accuracy: 0.9778\n",
      "Epoch 29/50\n",
      "12/12 [==============================] - 0s 18ms/step - loss: 0.0109 - accuracy: 0.9975 - val_loss: 0.0861 - val_accuracy: 0.9772\n",
      "Epoch 30/50\n",
      "12/12 [==============================] - 0s 17ms/step - loss: 0.0107 - accuracy: 0.9977 - val_loss: 0.0894 - val_accuracy: 0.9763\n",
      "Epoch 31/50\n",
      "12/12 [==============================] - 0s 19ms/step - loss: 0.0094 - accuracy: 0.9979 - val_loss: 0.0891 - val_accuracy: 0.9780\n",
      "Epoch 32/50\n",
      "12/12 [==============================] - 0s 18ms/step - loss: 0.0086 - accuracy: 0.9979 - val_loss: 0.0887 - val_accuracy: 0.9780\n",
      "Epoch 33/50\n",
      "12/12 [==============================] - 0s 18ms/step - loss: 0.0071 - accuracy: 0.9986 - val_loss: 0.0902 - val_accuracy: 0.9784\n",
      "Epoch 34/50\n",
      "12/12 [==============================] - 0s 18ms/step - loss: 0.0071 - accuracy: 0.9985 - val_loss: 0.0909 - val_accuracy: 0.9781\n",
      "Epoch 35/50\n",
      "12/12 [==============================] - 0s 20ms/step - loss: 0.0060 - accuracy: 0.9991 - val_loss: 0.0887 - val_accuracy: 0.9783\n",
      "Epoch 36/50\n",
      "12/12 [==============================] - 0s 18ms/step - loss: 0.0056 - accuracy: 0.9989 - val_loss: 0.0933 - val_accuracy: 0.9778\n",
      "Epoch 37/50\n",
      "12/12 [==============================] - 0s 18ms/step - loss: 0.0052 - accuracy: 0.9990 - val_loss: 0.0932 - val_accuracy: 0.9778\n",
      "Epoch 38/50\n",
      "12/12 [==============================] - 0s 18ms/step - loss: 0.0056 - accuracy: 0.9989 - val_loss: 0.0962 - val_accuracy: 0.9762\n",
      "Epoch 39/50\n",
      "12/12 [==============================] - 0s 18ms/step - loss: 0.0059 - accuracy: 0.9989 - val_loss: 0.0972 - val_accuracy: 0.9778\n",
      "Epoch 40/50\n",
      "12/12 [==============================] - 0s 19ms/step - loss: 0.0055 - accuracy: 0.9989 - val_loss: 0.0977 - val_accuracy: 0.9778\n",
      "Epoch 41/50\n",
      "12/12 [==============================] - 0s 18ms/step - loss: 0.0047 - accuracy: 0.9991 - val_loss: 0.0938 - val_accuracy: 0.9783\n",
      "Epoch 42/50\n",
      "12/12 [==============================] - 0s 18ms/step - loss: 0.0038 - accuracy: 0.9993 - val_loss: 0.0980 - val_accuracy: 0.9779\n",
      "Epoch 43/50\n",
      "12/12 [==============================] - 0s 18ms/step - loss: 0.0040 - accuracy: 0.9991 - val_loss: 0.0975 - val_accuracy: 0.9783\n",
      "Epoch 44/50\n",
      "12/12 [==============================] - 0s 18ms/step - loss: 0.0038 - accuracy: 0.9993 - val_loss: 0.0974 - val_accuracy: 0.9788\n",
      "Epoch 45/50\n",
      "12/12 [==============================] - 0s 19ms/step - loss: 0.0036 - accuracy: 0.9994 - val_loss: 0.1005 - val_accuracy: 0.9789\n",
      "Epoch 46/50\n",
      "12/12 [==============================] - 0s 18ms/step - loss: 0.0033 - accuracy: 0.9993 - val_loss: 0.0961 - val_accuracy: 0.9789\n",
      "Epoch 47/50\n",
      "12/12 [==============================] - 0s 18ms/step - loss: 0.0029 - accuracy: 0.9996 - val_loss: 0.0987 - val_accuracy: 0.9788\n",
      "Epoch 48/50\n",
      "12/12 [==============================] - 0s 19ms/step - loss: 0.0026 - accuracy: 0.9996 - val_loss: 0.0990 - val_accuracy: 0.9785\n",
      "Epoch 49/50\n",
      "12/12 [==============================] - 0s 18ms/step - loss: 0.0026 - accuracy: 0.9996 - val_loss: 0.1021 - val_accuracy: 0.9788\n",
      "Epoch 50/50\n",
      "12/12 [==============================] - 0s 17ms/step - loss: 0.0024 - accuracy: 0.9998 - val_loss: 0.1018 - val_accuracy: 0.9787\n",
      "\n",
      " Evaluate the new model against the test set:\n",
      "3/3 [==============================] - 0s 8ms/step - loss: 0.0871 - accuracy: 0.9792\n"
     ]
    },
    {
     "data": {
      "text/plain": [
       "[0.08707146346569061, 0.979200005531311]"
      ]
     },
     "execution_count": 14,
     "metadata": {},
     "output_type": "execute_result"
    },
    {
     "data": {
      "image/png": "[encoded data removed]",
      "text/plain": [
       "<Figure size 640x480 with 1 Axes>"
      ]
     },
     "metadata": {},
     "output_type": "display_data"
    }
   ],
   "source": [
    "# Hyperparameters variables.\n",
    "learning_rate = 0.003\n",
    "epochs = 50\n",
    "batch_size = 4000\n",
    "validation_split = 0.2\n",
    "\n",
    "# Create the model.\n",
    "my_model = create_model(learning_rate)\n",
    "\n",
    "# Train the model.\n",
    "epochs, hist = train_model(my_model, x_train_normalized, y_train, epochs, batch_size, validation_split)\n",
    "\n",
    "# Plot a graph of metric vs. epochs.\n",
    "list_of_metrics_to_plot = ['accuracy']\n",
    "plot_curve(epochs, hist, list_of_metrics_to_plot)\n",
    "\n",
    "# Evaluate against the test set.\n",
    "print(\"\\n Evaluate the new model against the test set:\")\n",
    "my_model.evaluate(x=x_test_normalized, y=y_test, batch_size=batch_size)\n"
   ]
  },
  {
   "cell_type": "code",
   "execution_count": null,
   "metadata": {},
   "outputs": [],
   "source": []
  }
 ],
 "metadata": {
  "kernelspec": {
   "display_name": "tf2.11",
   "language": "python",
   "name": "python3"
  },
  "language_info": {
   "codemirror_mode": {
    "name": "ipython",
    "version": 3
   },
   "file_extension": ".py",
   "mimetype": "text/x-python",
   "name": "python",
   "nbconvert_exporter": "python",
   "pygments_lexer": "ipython3",
   "version": "3.10.0"
  },
  "orig_nbformat": 4,
  "vscode": {
   "interpreter": {
    "hash": "4fd1d7371a990379a28203bebafbc67e68666423e9a038914ec6151938a890aa"
   }
  }
 },
 "nbformat": 4,
 "nbformat_minor": 2
}
