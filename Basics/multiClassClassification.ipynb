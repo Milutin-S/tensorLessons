{
 "cells": [
  {
   "attachments": {},
   "cell_type": "markdown",
   "metadata": {},
   "source": [
    "# Multi-Class Classification\n",
    "Dataset: MNIST\n",
    "- 10 output classes, one for each digit"
   ]
  },
  {
   "attachments": {},
   "cell_type": "markdown",
   "metadata": {},
   "source": [
    "## Import modules"
   ]
  },
  {
   "cell_type": "code",
   "execution_count": 1,
   "metadata": {},
   "outputs": [],
   "source": [
    "import numpy as np\n",
    "import pandas as pd\n",
    "import tensorflow as tf\n",
    "from tensorflow.keras import layers\n",
    "from matplotlib import pyplot as plt\n",
    "\n",
    "pd.options.display.max_rows = 10\n",
    "pd.options.display.float_format = \"{:.1f}\".format\n",
    "\n",
    "np.set_printoptions(linewidth=200)"
   ]
  },
  {
   "attachments": {},
   "cell_type": "markdown",
   "metadata": {},
   "source": [
    "## Load the dataset"
   ]
  },
  {
   "cell_type": "code",
   "execution_count": 2,
   "metadata": {},
   "outputs": [
    {
     "name": "stdout",
     "output_type": "stream",
     "text": [
      "Downloading data from https://storage.googleapis.com/tensorflow/tf-keras-datasets/mnist.npz\n",
      "11490434/11490434 [==============================] - 2s 0us/step\n"
     ]
    }
   ],
   "source": [
    "(x_train, y_train), (x_test, y_test) = tf.keras.datasets.mnist.load_data()"
   ]
  },
  {
   "attachments": {},
   "cell_type": "markdown",
   "metadata": {},
   "source": [
    "### View the dataset"
   ]
  },
  {
   "cell_type": "code",
   "execution_count": 3,
   "metadata": {},
   "outputs": [
    {
     "data": {
      "text/plain": [
       "array([[  0,   0,   0,   0,   0,   0,   0,   0,   0,   0,   0,   0,   0,   0,   0,   0,   0,   0,   0,   0,   0,   0,   0,   0,   0,   0,   0,   0],\n",
       "       [  0,   0,   0,   0,   0,   0,   0,   0,   0,   0,   0,   0,   0,   0,   0,   0,   0,   0,   0,   0,   0,   0,   0,   0,   0,   0,   0,   0],\n",
       "       [  0,   0,   0,   0,   0,   0,   0,   0,   0,   0,   0,   0,   0,   0,   0,   0,   0,   0,   0,   0,   0,   0,   0,   0,   0,   0,   0,   0],\n",
       "       [  0,   0,   0,   0,   0,   0,   0,   0,   0,   0,   0,   0,   0,   0,   0,   0,   0,   0,   0,   0,   0,   0,   0,   0,   0,   0,   0,   0],\n",
       "       [  0,   0,   0,   0,   0,   0,   0,   0,   0,   0,   0,   0,   0,   0,   0,   0,   0,   0,   0,   0,   0,   0,   0,   0,   0,   0,   0,   0],\n",
       "       [  0,   0,   0,   0,   0,   0,   0,   0,   0,   0,   0,   0,   0,   0,   0,   0,   0,   0,   0,   0,   0,   0,   0,   0,   0,   0,   0,   0],\n",
       "       [  0,   0,   0,   0,   0,   0,   0,   0, 127, 100, 156, 239, 224, 177, 213, 159,  70,  13,   0,   0,   0,   0,   0,   0,   0,   0,   0,   0],\n",
       "       [  0,   0,   0,   0,   0,   0,   0, 110, 250, 254, 254, 254, 254, 254, 254, 254, 254, 184,  10,   0,   0,   0,   0,   0,   0,   0,   0,   0],\n",
       "       [  0,   0,   0,   0,   0,   0,   0, 216, 254, 254, 254, 254, 254, 254, 254, 254, 254, 251,  54,   0,   0,   0,   0,   0,   0,   0,   0,   0],\n",
       "       [  0,   0,   0,   0,   0,   0,   0,   3, 131, 197,  68, 137, 101,  83,  41,  70, 221, 254, 108,   0,   0,   0,   0,   0,   0,   0,   0,   0],\n",
       "       [  0,   0,   0,   0,   0,   0,   0,   0,   0,   0,   0,   0,   0,   0,   0,   0,  58, 254, 216,  11,   0,   0,   0,   0,   0,   0,   0,   0],\n",
       "       [  0,   0,   0,   0,   0,   0,   0,   0,   0,   0,   0,   0,   0,   0,   0,   0, 110, 254, 254,  24,   0,   0,   0,   0,   0,   0,   0,   0],\n",
       "       [  0,   0,   0,   0,   0,   0,   0,   0,   0,   0,   0,   0,   0,   0,   4,  83, 247, 254, 192,  10,   0,   0,   0,   0,   0,   0,   0,   0],\n",
       "       [  0,   0,   0,   0,   0,   0,   0,   0,   0,   0,   0,   0,   0,  37, 124, 254, 254, 250,  47,   0,   0,   0,   0,   0,   0,   0,   0,   0],\n",
       "       [  0,   0,   0,   0,   0,   0,   0,   0,   0,   0,   0, 113, 178, 250, 254, 254, 254, 252, 178, 128,  50,   0,   0,   0,   0,   0,   0,   0],\n",
       "       [  0,   0,   0,   0,   0,   0,   0,   0,   0,   0,  69, 252, 254, 254, 254, 254, 254, 254, 254, 254, 153,   0,   0,   0,   0,   0,   0,   0],\n",
       "       [  0,   0,   0,   0,   0,   0,   0,   0,   0,   0, 141, 252, 254, 241, 241, 254, 247, 252, 254, 254, 153,   0,   0,   0,   0,   0,   0,   0],\n",
       "       [  0,   0,   0,   0,   0,   0,   0,   0,   0,   0,   0,  68,  82,   5,   5,  82,  37,  65, 167, 254, 190,   0,   0,   0,   0,   0,   0,   0],\n",
       "       [  0,   0,   0,   0,   0,   0,   0,   0,   0,   0,   0,   0,   0,   0,   0,   0,   0,   0, 162, 254, 153,   0,   0,   0,   0,   0,   0,   0],\n",
       "       [  0,   0,   0,   0,   0,   0,   0,   0,   0,   0,   0,   0,   0,   0,   0,   0,   0,   1, 172, 253,  75,   0,   0,   0,   0,   0,   0,   0],\n",
       "       [  0,   0,   0,   0,   0,   0,   0,   0,   0,   0,   0,   0,   0,   0,   0,   0,   0, 102, 254, 152,   0,   0,   0,   0,   0,   0,   0,   0],\n",
       "       [  0,   0,   0,   0,   0,   0,   0,   0,   0,   0,   0,   0,   0,   0,   0,   0,  38, 230, 216,  20,   0,   0,   0,   0,   0,   0,   0,   0],\n",
       "       [  0,   0,   0,   0,   0,   0,   0,   0,   0,   0,   0,   0,   0,   0,   1,  71, 222, 254, 142,   0,   0,   0,   0,   0,   0,   0,   0,   0],\n",
       "       [  0,   0,   0,   0,   0,   0,   0,   0,   0,   0,   0,   0,   0,   0,  66, 254, 254, 157,   0,   0,   0,   0,   0,   0,   0,   0,   0,   0],\n",
       "       [  0,   0,   0,   0,   0,   0,   0,   0,   4,  34,  34,  78, 161, 226, 249, 254, 154,   6,   0,   0,   0,   0,   0,   0,   0,   0,   0,   0],\n",
       "       [  0,   0,   0,   0,   0,   0,   0,  96, 184, 254, 254, 254, 254, 254, 249,  93,   5,   0,   0,   0,   0,   0,   0,   0,   0,   0,   0,   0],\n",
       "       [  0,   0,   0,   0,   0,   0,   0,   0,   0,   0,   0,   0,   0,   0,   0,   0,   0,   0,   0,   0,   0,   0,   0,   0,   0,   0,   0,   0],\n",
       "       [  0,   0,   0,   0,   0,   0,   0,   0,   0,   0,   0,   0,   0,   0,   0,   0,   0,   0,   0,   0,   0,   0,   0,   0,   0,   0,   0,   0]], dtype=uint8)"
      ]
     },
     "execution_count": 3,
     "metadata": {},
     "output_type": "execute_result"
    }
   ],
   "source": [
    "x_train[2917]"
   ]
  },
  {
   "cell_type": "code",
   "execution_count": 4,
   "metadata": {},
   "outputs": [
    {
     "data": {
      "text/plain": [
       "<matplotlib.image.AxesImage at 0x1989fb550f0>"
      ]
     },
     "execution_count": 4,
     "metadata": {},
     "output_type": "execute_result"
    },
    {
     "data": {
      "image/png": "[encoded data removed]",
      "text/plain": [
       "<Figure size 640x480 with 1 Axes>"
      ]
     },
     "metadata": {},
     "output_type": "display_data"
    }
   ],
   "source": [
    "plt.imshow(x_train[2917])"
   ]
  },
  {
   "attachments": {},
   "cell_type": "markdown",
   "metadata": {},
   "source": [
    "### Normalize feature values\n",
    "From integer between 0-255 ➡️ to a floating-point value between 0-1.0"
   ]
  },
  {
   "cell_type": "code",
   "execution_count": 5,
   "metadata": {},
   "outputs": [
    {
     "name": "stdout",
     "output_type": "stream",
     "text": [
      "[0.         0.         0.         0.         0.         0.         0.         0.55294118 1.         0.66666667 0.11372549 0.         0.         0.         0.         0.         0.         0.\n",
      " 0.         0.         0.         0.         0.         0.         0.         0.         0.         0.        ]\n"
     ]
    }
   ],
   "source": [
    "x_train_normalized = x_train/255.0\n",
    "x_test_normalized = x_test/255.0\n",
    "print(x_train_normalized[2900][10])"
   ]
  },
  {
   "attachments": {},
   "cell_type": "markdown",
   "metadata": {},
   "source": [
    "## Define a plotting function"
   ]
  },
  {
   "cell_type": "code",
   "execution_count": 6,
   "metadata": {},
   "outputs": [
    {
     "name": "stdout",
     "output_type": "stream",
     "text": [
      "Loaded the plot_curve function.\n"
     ]
    }
   ],
   "source": [
    "def plot_curve(epochs, hist, list_of_metrics):\n",
    "    \"\"\"Plot a curve of one or more classification metrics vs. epoch.\"\"\"\n",
    "    # List of metrics should be one of the names shown in:\n",
    "    # https://www.tensorflow.org/tutorials/structured_data/imbalanced_data#define_the_model_and_metrics\n",
    "\n",
    "    plt.figure()\n",
    "    plt.xlabel(\"Epoch\")\n",
    "    plt.ylabel(\"Value\")\n",
    "\n",
    "    for m in list_of_metrics:\n",
    "        x = hist[m]\n",
    "        plt.plot(epochs[1:], x[1:], label=m)\n",
    "    \n",
    "    plt.legend()\n",
    "\n",
    "print(\"Loaded the plot_curve function.\")"
   ]
  },
  {
   "attachments": {},
   "cell_type": "markdown",
   "metadata": {},
   "source": [
    "## Create a deep neural net model"
   ]
  },
  {
   "cell_type": "code",
   "execution_count": 7,
   "metadata": {},
   "outputs": [],
   "source": [
    "def create_model(my_learning_rate):\n",
    "    \"\"\"Create and compile a deep neural net.\"\"\"\n",
    "    model = tf.keras.models.Sequential()\n",
    "\n",
    "    # The features are stored in a two-dimensional 28X28 array. \n",
    "    # Flatten that two-dimensional array into a one-dimensional \n",
    "    # 784-element array.\n",
    "    model.add(tf.keras.layers.Flatten(input_shape=(28, 28)))\n",
    "\n",
    "    # Define the firs hidden layer.\n",
    "    model.add(tf.keras.layers.Dense(units=32, activation='relu'))\n",
    "\n",
    "    # Define a dropout regularization layer.\n",
    "    model.add(tf.keras.layers.Dropout(rate=0.2))\n",
    "\n",
    "    # Define the output layer. The units parameter is set to 10 because\n",
    "    # the model must choose among 10 possible output values (representing\n",
    "    # the digits from 0 to 9, inclusive).\n",
    "    model.add(tf.keras.layers.Dense(units=10, activation='softmax'))\n",
    "\n",
    "    # Construct the layers into a model that TensorFlow can execute.  \n",
    "    # Notice that the loss function for multi-class classification\n",
    "    # is different than the loss function for binary classification.\n",
    "    model.compile(optimizer=tf.keras.optimizers.Adam(learning_rate=my_learning_rate),\n",
    "                  loss=\"sparse_categorical_crossentropy\",\n",
    "                  metrics=['accuracy'])\n",
    "    return model\n",
    "\n",
    "def train_model(model, train_features, train_label, epochs, batch_size=None, validation_split=0.1):\n",
    "    \"\"\"Train the model by feeding it data.\"\"\"\n",
    "\n",
    "    history = model.fit(x=train_features, y=train_label, batch_size=batch_size,\n",
    "                        epochs=epochs, shuffle=True,\n",
    "                        validation_split=validation_split)\n",
    "    \n",
    "    # To track the progression of training, gather a snapshot\n",
    "    # of the model's metrics at each epoch.\n",
    "    epochs = history.epoch\n",
    "    hist = pd.DataFrame(history.history)\n",
    "\n",
    "    return epochs, hist"
   ]
  },
  {
   "attachments": {},
   "cell_type": "markdown",
   "metadata": {},
   "source": [
    "### Train the model"
   ]
  },
  {
   "cell_type": "code",
   "execution_count": 8,
   "metadata": {},
   "outputs": [
    {
     "name": "stdout",
     "output_type": "stream",
     "text": [
      "Epoch 1/50\n",
      "12/12 [==============================] - 1s 29ms/step - loss: 1.7466 - accuracy: 0.4548 - val_loss: 1.0154 - val_accuracy: 0.7852\n",
      "Epoch 2/50\n",
      "12/12 [==============================] - 0s 10ms/step - loss: 0.9211 - accuracy: 0.7286 - val_loss: 0.5385 - val_accuracy: 0.8656\n",
      "Epoch 3/50\n",
      "12/12 [==============================] - 0s 10ms/step - loss: 0.6354 - accuracy: 0.8090 - val_loss: 0.4131 - val_accuracy: 0.8870\n",
      "Epoch 4/50\n",
      "12/12 [==============================] - 0s 10ms/step - loss: 0.5263 - accuracy: 0.8432 - val_loss: 0.3559 - val_accuracy: 0.9003\n",
      "Epoch 5/50\n",
      "12/12 [==============================] - 0s 10ms/step - loss: 0.4653 - accuracy: 0.8616 - val_loss: 0.3240 - val_accuracy: 0.9089\n",
      "Epoch 6/50\n",
      "12/12 [==============================] - 0s 10ms/step - loss: 0.4262 - accuracy: 0.8744 - val_loss: 0.2999 - val_accuracy: 0.9150\n",
      "Epoch 7/50\n",
      "12/12 [==============================] - 0s 11ms/step - loss: 0.3944 - accuracy: 0.8851 - val_loss: 0.2802 - val_accuracy: 0.9217\n",
      "Epoch 8/50\n",
      "12/12 [==============================] - 0s 10ms/step - loss: 0.3745 - accuracy: 0.8890 - val_loss: 0.2666 - val_accuracy: 0.9251\n",
      "Epoch 9/50\n",
      "12/12 [==============================] - 0s 10ms/step - loss: 0.3535 - accuracy: 0.8962 - val_loss: 0.2540 - val_accuracy: 0.9283\n",
      "Epoch 10/50\n",
      "12/12 [==============================] - 0s 10ms/step - loss: 0.3399 - accuracy: 0.8999 - val_loss: 0.2448 - val_accuracy: 0.9299\n",
      "Epoch 11/50\n",
      "12/12 [==============================] - 0s 9ms/step - loss: 0.3261 - accuracy: 0.9047 - val_loss: 0.2356 - val_accuracy: 0.9323\n",
      "Epoch 12/50\n",
      "12/12 [==============================] - 0s 9ms/step - loss: 0.3153 - accuracy: 0.9060 - val_loss: 0.2278 - val_accuracy: 0.9332\n",
      "Epoch 13/50\n",
      "12/12 [==============================] - 0s 9ms/step - loss: 0.3048 - accuracy: 0.9092 - val_loss: 0.2216 - val_accuracy: 0.9360\n",
      "Epoch 14/50\n",
      "12/12 [==============================] - 0s 9ms/step - loss: 0.2954 - accuracy: 0.9144 - val_loss: 0.2153 - val_accuracy: 0.9368\n",
      "Epoch 15/50\n",
      "12/12 [==============================] - 0s 9ms/step - loss: 0.2886 - accuracy: 0.9151 - val_loss: 0.2106 - val_accuracy: 0.9392\n",
      "Epoch 16/50\n",
      "12/12 [==============================] - 0s 9ms/step - loss: 0.2822 - accuracy: 0.9168 - val_loss: 0.2053 - val_accuracy: 0.9408\n",
      "Epoch 17/50\n",
      "12/12 [==============================] - 0s 9ms/step - loss: 0.2758 - accuracy: 0.9195 - val_loss: 0.2012 - val_accuracy: 0.9426\n",
      "Epoch 18/50\n",
      "12/12 [==============================] - 0s 8ms/step - loss: 0.2692 - accuracy: 0.9208 - val_loss: 0.1976 - val_accuracy: 0.9430\n",
      "Epoch 19/50\n",
      "12/12 [==============================] - 0s 10ms/step - loss: 0.2650 - accuracy: 0.9212 - val_loss: 0.1941 - val_accuracy: 0.9435\n",
      "Epoch 20/50\n",
      "12/12 [==============================] - 0s 8ms/step - loss: 0.2595 - accuracy: 0.9230 - val_loss: 0.1904 - val_accuracy: 0.9442\n",
      "Epoch 21/50\n",
      "12/12 [==============================] - 0s 8ms/step - loss: 0.2531 - accuracy: 0.9247 - val_loss: 0.1872 - val_accuracy: 0.9458\n",
      "Epoch 22/50\n",
      "12/12 [==============================] - 0s 8ms/step - loss: 0.2482 - accuracy: 0.9264 - val_loss: 0.1833 - val_accuracy: 0.9470\n",
      "Epoch 23/50\n",
      "12/12 [==============================] - 0s 8ms/step - loss: 0.2445 - accuracy: 0.9274 - val_loss: 0.1813 - val_accuracy: 0.9479\n",
      "Epoch 24/50\n",
      "12/12 [==============================] - 0s 8ms/step - loss: 0.2390 - accuracy: 0.9282 - val_loss: 0.1795 - val_accuracy: 0.9486\n",
      "Epoch 25/50\n",
      "12/12 [==============================] - 0s 9ms/step - loss: 0.2366 - accuracy: 0.9290 - val_loss: 0.1763 - val_accuracy: 0.9490\n",
      "Epoch 26/50\n",
      "12/12 [==============================] - 0s 10ms/step - loss: 0.2318 - accuracy: 0.9305 - val_loss: 0.1745 - val_accuracy: 0.9507\n",
      "Epoch 27/50\n",
      "12/12 [==============================] - 0s 8ms/step - loss: 0.2317 - accuracy: 0.9306 - val_loss: 0.1722 - val_accuracy: 0.9509\n",
      "Epoch 28/50\n",
      "12/12 [==============================] - 0s 8ms/step - loss: 0.2296 - accuracy: 0.9305 - val_loss: 0.1717 - val_accuracy: 0.9509\n",
      "Epoch 29/50\n",
      "12/12 [==============================] - 0s 9ms/step - loss: 0.2231 - accuracy: 0.9328 - val_loss: 0.1690 - val_accuracy: 0.9512\n",
      "Epoch 30/50\n",
      "12/12 [==============================] - 0s 9ms/step - loss: 0.2219 - accuracy: 0.9320 - val_loss: 0.1681 - val_accuracy: 0.9517\n",
      "Epoch 31/50\n",
      "12/12 [==============================] - 0s 8ms/step - loss: 0.2172 - accuracy: 0.9335 - val_loss: 0.1654 - val_accuracy: 0.9538\n",
      "Epoch 32/50\n",
      "12/12 [==============================] - 0s 8ms/step - loss: 0.2157 - accuracy: 0.9351 - val_loss: 0.1639 - val_accuracy: 0.9539\n",
      "Epoch 33/50\n",
      "12/12 [==============================] - 0s 8ms/step - loss: 0.2126 - accuracy: 0.9361 - val_loss: 0.1625 - val_accuracy: 0.9538\n",
      "Epoch 34/50\n",
      "12/12 [==============================] - 0s 8ms/step - loss: 0.2104 - accuracy: 0.9362 - val_loss: 0.1609 - val_accuracy: 0.9555\n",
      "Epoch 35/50\n",
      "12/12 [==============================] - 0s 9ms/step - loss: 0.2090 - accuracy: 0.9376 - val_loss: 0.1603 - val_accuracy: 0.9542\n",
      "Epoch 36/50\n",
      "12/12 [==============================] - 0s 9ms/step - loss: 0.2062 - accuracy: 0.9386 - val_loss: 0.1597 - val_accuracy: 0.9549\n",
      "Epoch 37/50\n",
      "12/12 [==============================] - 0s 8ms/step - loss: 0.2036 - accuracy: 0.9385 - val_loss: 0.1582 - val_accuracy: 0.9551\n",
      "Epoch 38/50\n",
      "12/12 [==============================] - 0s 9ms/step - loss: 0.2013 - accuracy: 0.9392 - val_loss: 0.1574 - val_accuracy: 0.9557\n",
      "Epoch 39/50\n",
      "12/12 [==============================] - 0s 8ms/step - loss: 0.2022 - accuracy: 0.9377 - val_loss: 0.1560 - val_accuracy: 0.9563\n",
      "Epoch 40/50\n",
      "12/12 [==============================] - 0s 8ms/step - loss: 0.1956 - accuracy: 0.9391 - val_loss: 0.1541 - val_accuracy: 0.9572\n",
      "Epoch 41/50\n",
      "12/12 [==============================] - 0s 8ms/step - loss: 0.1944 - accuracy: 0.9416 - val_loss: 0.1541 - val_accuracy: 0.9562\n",
      "Epoch 42/50\n",
      "12/12 [==============================] - 0s 8ms/step - loss: 0.1937 - accuracy: 0.9402 - val_loss: 0.1523 - val_accuracy: 0.9571\n",
      "Epoch 43/50\n",
      "12/12 [==============================] - 0s 8ms/step - loss: 0.1938 - accuracy: 0.9406 - val_loss: 0.1517 - val_accuracy: 0.9576\n",
      "Epoch 44/50\n",
      "12/12 [==============================] - 0s 8ms/step - loss: 0.1884 - accuracy: 0.9417 - val_loss: 0.1502 - val_accuracy: 0.9577\n",
      "Epoch 45/50\n",
      "12/12 [==============================] - 0s 9ms/step - loss: 0.1893 - accuracy: 0.9407 - val_loss: 0.1530 - val_accuracy: 0.9571\n",
      "Epoch 46/50\n",
      "12/12 [==============================] - 0s 9ms/step - loss: 0.1883 - accuracy: 0.9423 - val_loss: 0.1500 - val_accuracy: 0.9574\n",
      "Epoch 47/50\n",
      "12/12 [==============================] - 0s 8ms/step - loss: 0.1853 - accuracy: 0.9422 - val_loss: 0.1490 - val_accuracy: 0.9583\n",
      "Epoch 48/50\n",
      "12/12 [==============================] - 0s 8ms/step - loss: 0.1835 - accuracy: 0.9435 - val_loss: 0.1482 - val_accuracy: 0.9588\n",
      "Epoch 49/50\n",
      "12/12 [==============================] - 0s 8ms/step - loss: 0.1807 - accuracy: 0.9446 - val_loss: 0.1490 - val_accuracy: 0.9578\n",
      "Epoch 50/50\n",
      "12/12 [==============================] - 0s 7ms/step - loss: 0.1815 - accuracy: 0.9446 - val_loss: 0.1473 - val_accuracy: 0.9586\n",
      "\n",
      " Evaluate the new model against the test set:\n",
      "3/3 [==============================] - 0s 4ms/step - loss: 0.1411 - accuracy: 0.9586\n"
     ]
    },
    {
     "data": {
      "text/plain": [
       "[0.1411048024892807, 0.9585999846458435]"
      ]
     },
     "execution_count": 8,
     "metadata": {},
     "output_type": "execute_result"
    },
    {
     "data": {
      "image/png": "[encoded data removed]",
      "text/plain": [
       "<Figure size 640x480 with 1 Axes>"
      ]
     },
     "metadata": {},
     "output_type": "display_data"
    }
   ],
   "source": [
    "# Hyperparameters variables.\n",
    "learning_rate = 0.003\n",
    "epochs = 50\n",
    "batch_size = 4000\n",
    "validation_split = 0.2\n",
    "\n",
    "# Create the model.\n",
    "my_model = create_model(learning_rate)\n",
    "\n",
    "# Train the model.\n",
    "epochs, hist = train_model(my_model, x_train_normalized, y_train, epochs, batch_size, validation_split)\n",
    "\n",
    "# Plot a graph of metric vs. epochs.\n",
    "list_of_metrics_to_plot = ['accuracy']\n",
    "plot_curve(epochs, hist, list_of_metrics_to_plot)\n",
    "\n",
    "# Evaluate against the test set.\n",
    "print(\"\\n Evaluate the new model against the test set:\")\n",
    "my_model.evaluate(x=x_test_normalized, y=y_test, batch_size=batch_size)\n"
   ]
  },
  {
   "cell_type": "code",
   "execution_count": null,
   "metadata": {},
   "outputs": [],
   "source": []
  }
 ],
 "metadata": {
  "kernelspec": {
   "display_name": "tf2.11",
   "language": "python",
   "name": "python3"
  },
  "language_info": {
   "codemirror_mode": {
    "name": "ipython",
    "version": 3
   },
   "file_extension": ".py",
   "mimetype": "text/x-python",
   "name": "python",
   "nbconvert_exporter": "python",
   "pygments_lexer": "ipython3",
   "version": "3.10.0"
  },
  "orig_nbformat": 4,
  "vscode": {
   "interpreter": {
    "hash": "4fd1d7371a990379a28203bebafbc67e68666423e9a038914ec6151938a890aa"
   }
  }
 },
 "nbformat": 4,
 "nbformat_minor": 2
}
