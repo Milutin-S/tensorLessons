{
 "cells": [
  {
   "attachments": {},
   "cell_type": "markdown",
   "metadata": {},
   "source": [
    "# Import relevant modules"
   ]
  },
  {
   "cell_type": "code",
   "execution_count": 3,
   "metadata": {},
   "outputs": [
    {
     "name": "stdout",
     "output_type": "stream",
     "text": [
      "Imported modules.\n"
     ]
    }
   ],
   "source": [
    "import numpy as np\n",
    "import pandas as pd\n",
    "import tensorflow as tf\n",
    "from tensorflow.keras import layers\n",
    "from matplotlib import pyplot as plt\n",
    "import seaborn as sns\n",
    "\n",
    "pd.options.display.max_rows = 10\n",
    "pd.options.display.float_format = \"{:.1f}\".format\n",
    "\n",
    "print(\"Imported modules.\")"
   ]
  },
  {
   "attachments": {},
   "cell_type": "markdown",
   "metadata": {},
   "source": [
    "# Load the dataset"
   ]
  },
  {
   "cell_type": "code",
   "execution_count": 4,
   "metadata": {},
   "outputs": [],
   "source": [
    "train_df = pd.read_csv(\"https://download.mlcc.google.com/mledu-datasets/california_housing_train.csv\")\n",
    "# Shuffle the examples\n",
    "train_df = train_df.reindex(np.random.permutation(train_df.index))\n",
    "test_df = pd.read_csv(\"https://download.mlcc.google.com/mledu-datasets/california_housing_test.csv\")"
   ]
  },
  {
   "attachments": {},
   "cell_type": "markdown",
   "metadata": {},
   "source": [
    "## Normalize values: Z-scores"
   ]
  },
  {
   "cell_type": "code",
   "execution_count": 5,
   "metadata": {},
   "outputs": [
    {
     "name": "stdout",
     "output_type": "stream",
     "text": [
      "Normalized the values.\n"
     ]
    }
   ],
   "source": [
    "train_df_mean = train_df.mean()\n",
    "train_df_std = train_df.std()\n",
    "train_df_norm = (train_df - train_df_mean)/train_df_std\n",
    "\n",
    "test_df_mean = test_df.mean()\n",
    "test_df_std = test_df.std()\n",
    "test_df_norm = (test_df - test_df_mean)/test_df_std\n",
    "\n",
    "print(\"Normalized the values.\")"
   ]
  },
  {
   "attachments": {},
   "cell_type": "markdown",
   "metadata": {},
   "source": [
    "## Represent data\n",
    "Create a feature layer containing three features:\n",
    "- latitude X longitude\n",
    "- meadian_income\n",
    "- population"
   ]
  },
  {
   "cell_type": "code",
   "execution_count": 7,
   "metadata": {},
   "outputs": [],
   "source": [
    "feature_columns = []\n",
    "\n",
    "resolution_in_Zs = 0.3 # 3/10 of a standard deviation\n",
    "\n",
    "# Create a bucket feature column for latitude.\n",
    "latitude_as_a_numeric_column = tf.feature_column.numeric_column(\"latitude\")\n",
    "latitude_boundaries = list(np.arange(int(min(train_df_norm['latitude'])),\n",
    "                                     int(max(train_df_norm['latitude'])),\n",
    "                                     resolution_in_Zs))\n",
    "latitude = tf.feature_column.bucketized_column(latitude_as_a_numeric_column, latitude_boundaries)\n",
    "\n",
    "# Create a bucket feature column for longitude.\n",
    "longitude_as_a_numeric_column = tf.feature_column.numeric_column(\"longitude\")\n",
    "longitude_boundaries = list(np.arange(int(min(train_df_norm['longitude'])),\n",
    "                                     int(max(train_df_norm['longitude'])),\n",
    "                                     resolution_in_Zs))\n",
    "longitude = tf.feature_column.bucketized_column(longitude_as_a_numeric_column, longitude_boundaries)\n",
    "\n",
    "# Create a feature cross of latitude and longitude.\n",
    "latitude_x_longitude = tf.feature_column.crossed_column([latitude, longitude], hash_bucket_size=100)\n",
    "crossed_feature = tf.feature_column.indicator_column(latitude_x_longitude)\n",
    "feature_columns.append(crossed_feature)\n",
    "\n",
    "# Represent median_income as floating-point value.\n",
    "median_income = tf.feature_column.numeric_column(\"median_income\")\n",
    "feature_columns.append(median_income)\n",
    "\n",
    "# Represent population as floating-point value.\n",
    "population = tf.feature_column.numeric_column(\"population\")\n",
    "feature_columns.append(population)\n",
    "\n",
    "# Convert the list of feature columns into layer that will later be fed into the model\n",
    "my_feature_layer = tf.keras.layers.DenseFeatures(feature_columns)"
   ]
  },
  {
   "attachments": {},
   "cell_type": "markdown",
   "metadata": {},
   "source": [
    "# Define the plottiong function"
   ]
  },
  {
   "cell_type": "code",
   "execution_count": 9,
   "metadata": {},
   "outputs": [
    {
     "name": "stdout",
     "output_type": "stream",
     "text": [
      "Defined the plot_loss_curve_function.\n"
     ]
    }
   ],
   "source": [
    "def plot_the_loss_curve(epochs, mse):\n",
    "    \"\"\"Plot a curve of loss vs. epoch.\"\"\"\n",
    "\n",
    "    plt.figure()\n",
    "    plt.xlabel(\"Epoch\")\n",
    "    plt.ylabel(\"Mean Squared Error\")\n",
    "\n",
    "    plt.plot(epochs, mse, label=\"Loss\")\n",
    "    plt.legend()\n",
    "    plt.ylim([mse.min()*0.95, mse.max()*1.03])\n",
    "    plt.show()\n",
    "\n",
    "print(\"Defined the plot_loss_curve_function.\")"
   ]
  },
  {
   "attachments": {},
   "cell_type": "markdown",
   "metadata": {},
   "source": [
    "# Build a linear regression model as a baseline"
   ]
  },
  {
   "cell_type": "code",
   "execution_count": 11,
   "metadata": {},
   "outputs": [
    {
     "name": "stdout",
     "output_type": "stream",
     "text": [
      "Defined the create_model and train_model functions.\n"
     ]
    }
   ],
   "source": [
    "def create_model(my_learning_rate, feature_layer):\n",
    "    \"\"\"Create and compile a simple linear regression model.\"\"\"\n",
    "\n",
    "    model = tf.keras.models.Sequential()\n",
    "    model.add(feature_layer)\n",
    "    model.add(tf.keras.layers.Dense(units=1, input_shape=(1,)))\n",
    "    model.compile(optimizer=tf.keras.optimizers.experimental.RMSprop(learning_rate=my_learning_rate),\n",
    "                  loss=\"mean_squared_error\",\n",
    "                  metrics=[tf.keras.metrics.MeanSquaredError()])\n",
    "    \n",
    "    return model\n",
    "\n",
    "def train_model(model, dataset, epochs, batch_size, label_name):\n",
    "    \"\"\"Feed a dataset into the model in order to train it.\"\"\"\n",
    "\n",
    "    # Split the dataset into features and label.\n",
    "    features = {name:np.array(value) for name, value in dataset.items()}\n",
    "    label = np.array(features.pop(label_name))\n",
    "    history = model.fit(x=features, y=label, batch_size=batch_size,\n",
    "                        epochs=epochs, shuffle=True)\n",
    "    \n",
    "    # Get details that will be useful for plotting the loss curve.\n",
    "    epochs= history.epoch\n",
    "    hist = pd.DataFrame(history.history)\n",
    "    rmse = hist[\"mean_squared_error\"]\n",
    "\n",
    "    return epochs, rmse\n",
    "\n",
    "print(\"Defined the create_model and train_model functions.\")"
   ]
  },
  {
   "attachments": {},
   "cell_type": "markdown",
   "metadata": {},
   "source": [
    "## Run baseline model"
   ]
  },
  {
   "cell_type": "code",
   "execution_count": 12,
   "metadata": {},
   "outputs": [
    {
     "name": "stdout",
     "output_type": "stream",
     "text": [
      "Epoch 1/15\n",
      "WARNING:tensorflow:Layers in a Sequential model should only have a single input tensor. Received: inputs={'longitude': <tf.Tensor 'IteratorGetNext:3' shape=(1000,) dtype=float32>, 'latitude': <tf.Tensor 'IteratorGetNext:2' shape=(1000,) dtype=float32>, 'housing_median_age': <tf.Tensor 'IteratorGetNext:1' shape=(1000,) dtype=float32>, 'total_rooms': <tf.Tensor 'IteratorGetNext:7' shape=(1000,) dtype=float32>, 'total_bedrooms': <tf.Tensor 'IteratorGetNext:6' shape=(1000,) dtype=float32>, 'population': <tf.Tensor 'IteratorGetNext:5' shape=(1000,) dtype=float32>, 'households': <tf.Tensor 'IteratorGetNext:0' shape=(1000,) dtype=float32>, 'median_income': <tf.Tensor 'IteratorGetNext:4' shape=(1000,) dtype=float32>}. Consider rewriting this model with the Functional API.\n",
      "WARNING:tensorflow:Layers in a Sequential model should only have a single input tensor. Received: inputs={'longitude': <tf.Tensor 'IteratorGetNext:3' shape=(1000,) dtype=float32>, 'latitude': <tf.Tensor 'IteratorGetNext:2' shape=(1000,) dtype=float32>, 'housing_median_age': <tf.Tensor 'IteratorGetNext:1' shape=(1000,) dtype=float32>, 'total_rooms': <tf.Tensor 'IteratorGetNext:7' shape=(1000,) dtype=float32>, 'total_bedrooms': <tf.Tensor 'IteratorGetNext:6' shape=(1000,) dtype=float32>, 'population': <tf.Tensor 'IteratorGetNext:5' shape=(1000,) dtype=float32>, 'households': <tf.Tensor 'IteratorGetNext:0' shape=(1000,) dtype=float32>, 'median_income': <tf.Tensor 'IteratorGetNext:4' shape=(1000,) dtype=float32>}. Consider rewriting this model with the Functional API.\n",
      "17/17 [==============================] - 1s 1ms/step - loss: 0.9778 - mean_squared_error: 0.9778\n",
      "Epoch 2/15\n",
      "17/17 [==============================] - 0s 2ms/step - loss: 0.6639 - mean_squared_error: 0.6639\n",
      "Epoch 3/15\n",
      "17/17 [==============================] - 0s 1ms/step - loss: 0.5013 - mean_squared_error: 0.5013\n",
      "Epoch 4/15\n",
      "17/17 [==============================] - 0s 2ms/step - loss: 0.4133 - mean_squared_error: 0.4133\n",
      "Epoch 5/15\n",
      "17/17 [==============================] - 0s 1ms/step - loss: 0.3747 - mean_squared_error: 0.3747\n",
      "Epoch 6/15\n",
      "17/17 [==============================] - 0s 2ms/step - loss: 0.3626 - mean_squared_error: 0.3626\n",
      "Epoch 7/15\n",
      "17/17 [==============================] - 0s 1ms/step - loss: 0.3607 - mean_squared_error: 0.3607\n",
      "Epoch 8/15\n",
      "17/17 [==============================] - 0s 2ms/step - loss: 0.3601 - mean_squared_error: 0.3601\n",
      "Epoch 9/15\n",
      "17/17 [==============================] - 0s 1ms/step - loss: 0.3600 - mean_squared_error: 0.3600\n",
      "Epoch 10/15\n",
      "17/17 [==============================] - 0s 2ms/step - loss: 0.3602 - mean_squared_error: 0.3602\n",
      "Epoch 11/15\n",
      "17/17 [==============================] - 0s 2ms/step - loss: 0.3599 - mean_squared_error: 0.3599\n",
      "Epoch 12/15\n",
      "17/17 [==============================] - 0s 1ms/step - loss: 0.3600 - mean_squared_error: 0.3600\n",
      "Epoch 13/15\n",
      "17/17 [==============================] - 0s 2ms/step - loss: 0.3601 - mean_squared_error: 0.3601\n",
      "Epoch 14/15\n",
      "17/17 [==============================] - 0s 1ms/step - loss: 0.3597 - mean_squared_error: 0.3597\n",
      "Epoch 15/15\n",
      "17/17 [==============================] - 0s 2ms/step - loss: 0.3600 - mean_squared_error: 0.3600\n"
     ]
    },
    {
     "data": {
      "image/png": "[encoded data removed]",
      "text/plain": [
       "<Figure size 640x480 with 1 Axes>"
      ]
     },
     "metadata": {},
     "output_type": "display_data"
    },
    {
     "name": "stdout",
     "output_type": "stream",
     "text": [
      "\n",
      " Evaluate the linear regression model against the test set:\n",
      "WARNING:tensorflow:Layers in a Sequential model should only have a single input tensor. Received: inputs={'longitude': <tf.Tensor 'IteratorGetNext:3' shape=(1000,) dtype=float32>, 'latitude': <tf.Tensor 'IteratorGetNext:2' shape=(1000,) dtype=float32>, 'housing_median_age': <tf.Tensor 'IteratorGetNext:1' shape=(1000,) dtype=float32>, 'total_rooms': <tf.Tensor 'IteratorGetNext:7' shape=(1000,) dtype=float32>, 'total_bedrooms': <tf.Tensor 'IteratorGetNext:6' shape=(1000,) dtype=float32>, 'population': <tf.Tensor 'IteratorGetNext:5' shape=(1000,) dtype=float32>, 'households': <tf.Tensor 'IteratorGetNext:0' shape=(1000,) dtype=float32>, 'median_income': <tf.Tensor 'IteratorGetNext:4' shape=(1000,) dtype=float32>}. Consider rewriting this model with the Functional API.\n",
      "3/3 [==============================] - 0s 2ms/step - loss: 0.3957 - mean_squared_error: 0.3957\n"
     ]
    },
    {
     "data": {
      "text/plain": [
       "[0.3957277834415436, 0.3957277834415436]"
      ]
     },
     "execution_count": 12,
     "metadata": {},
     "output_type": "execute_result"
    }
   ],
   "source": [
    "# Hyperparameters.\n",
    "learning_rate = 0.01\n",
    "epochs = 15\n",
    "batch_size = 1000\n",
    "label_name = \"median_house_value\"\n",
    "\n",
    "# Create the model.\n",
    "my_model = create_model(learning_rate, my_feature_layer)\n",
    "\n",
    "# Train the model on normalized training set.\n",
    "epochs, mse = train_model(my_model, train_df_norm, epochs, batch_size, label_name)\n",
    "plot_the_loss_curve(epochs, mse)\n",
    "\n",
    "test_features = {name:np.array(value) for name, value in test_df_norm.items()}\n",
    "# Isolate the label\n",
    "test_label = np.array(test_features.pop(label_name))\n",
    "print(\"\\n Evaluate the linear regression model against the test set:\")\n",
    "my_model.evaluate(x=test_features, y=test_label, batch_size=batch_size)"
   ]
  },
  {
   "attachments": {},
   "cell_type": "markdown",
   "metadata": {},
   "source": [
    "# Define a deep neural net model and training function"
   ]
  },
  {
   "cell_type": "code",
   "execution_count": 40,
   "metadata": {},
   "outputs": [],
   "source": [
    "def create_model(my_learning_rate, my_feature_layer):\n",
    "    \"\"\"Create and compile a deep learning neural network.\"\"\"\n",
    "\n",
    "    model = tf.keras.models.Sequential()\n",
    "    model.add(my_feature_layer)\n",
    "\n",
    "    # Define the firs hidden layer with 20 nodes.\n",
    "    model.add(tf.keras.layers.Dense(units=20,\n",
    "                                    activation='relu',\n",
    "                                    kernel_regularizer=tf.keras.regularizers.l2(l=0.04), # L2 regularization\n",
    "                                    name='Hidden1'))\n",
    "    \n",
    "    # # Implementing Dropout regularization\n",
    "    # model.add(tf.keras.layers.Dropout(rate=0.25))\n",
    "\n",
    "    # Define the firs hidden layer with 12 nodes.\n",
    "    model.add(tf.keras.layers.Dense(units=12,\n",
    "                                    activation='relu',\n",
    "                                    kernel_regularizer=tf.keras.regularizers.l2(l=0.04), # L2 regularization\n",
    "                                    name='Hidden2'))\n",
    "    # Define the output layer.\n",
    "    model.add(tf.keras.layers.Dense(units=1,\n",
    "                                    name='Output'))\n",
    "    model.compile(optimizer=tf.keras.optimizers.Adam(learning_rate=my_learning_rate),\n",
    "                  loss=\"mean_squared_error\",\n",
    "                  metrics=[tf.keras.metrics.MeanSquaredError()])\n",
    "    \n",
    "    return model\n",
    "\n",
    "def train_model(model, dataset, epochs, label_name, batch_size=None):\n",
    "    \"\"\"Train the model by feeding it data.\"\"\"\n",
    "\n",
    "    features = {name:np.array(value) for name, value in dataset.items()}\n",
    "    label = np.array(features.pop(label_name))\n",
    "    history = model.fit(x=features, y=label, batch_size=batch_size, epochs=epochs, shuffle=True)\n",
    "\n",
    "    # The list of epochs is stored separately from the rest of history.\n",
    "    epochs = history.epoch\n",
    "\n",
    "    # To track the progression of training, gather a snapshot\n",
    "    # of the model's mean squared error at each epoch.\n",
    "    hist = pd.DataFrame(history.history)\n",
    "    mse = hist[\"mean_squared_error\"]\n",
    "\n",
    "    return epochs, mse"
   ]
  },
  {
   "attachments": {},
   "cell_type": "markdown",
   "metadata": {},
   "source": [
    "## Run the Deep NN model"
   ]
  },
  {
   "cell_type": "code",
   "execution_count": 45,
   "metadata": {},
   "outputs": [
    {
     "name": "stdout",
     "output_type": "stream",
     "text": [
      "Epoch 1/140\n",
      "WARNING:tensorflow:Layers in a Sequential model should only have a single input tensor. Received: inputs={'longitude': <tf.Tensor 'IteratorGetNext:3' shape=(1000,) dtype=float32>, 'latitude': <tf.Tensor 'IteratorGetNext:2' shape=(1000,) dtype=float32>, 'housing_median_age': <tf.Tensor 'IteratorGetNext:1' shape=(1000,) dtype=float32>, 'total_rooms': <tf.Tensor 'IteratorGetNext:7' shape=(1000,) dtype=float32>, 'total_bedrooms': <tf.Tensor 'IteratorGetNext:6' shape=(1000,) dtype=float32>, 'population': <tf.Tensor 'IteratorGetNext:5' shape=(1000,) dtype=float32>, 'households': <tf.Tensor 'IteratorGetNext:0' shape=(1000,) dtype=float32>, 'median_income': <tf.Tensor 'IteratorGetNext:4' shape=(1000,) dtype=float32>}. Consider rewriting this model with the Functional API.\n",
      "WARNING:tensorflow:Layers in a Sequential model should only have a single input tensor. Received: inputs={'longitude': <tf.Tensor 'IteratorGetNext:3' shape=(1000,) dtype=float32>, 'latitude': <tf.Tensor 'IteratorGetNext:2' shape=(1000,) dtype=float32>, 'housing_median_age': <tf.Tensor 'IteratorGetNext:1' shape=(1000,) dtype=float32>, 'total_rooms': <tf.Tensor 'IteratorGetNext:7' shape=(1000,) dtype=float32>, 'total_bedrooms': <tf.Tensor 'IteratorGetNext:6' shape=(1000,) dtype=float32>, 'population': <tf.Tensor 'IteratorGetNext:5' shape=(1000,) dtype=float32>, 'households': <tf.Tensor 'IteratorGetNext:0' shape=(1000,) dtype=float32>, 'median_income': <tf.Tensor 'IteratorGetNext:4' shape=(1000,) dtype=float32>}. Consider rewriting this model with the Functional API.\n",
      "17/17 [==============================] - 0s 2ms/step - loss: 1.9972 - mean_squared_error: 0.9299\n",
      "Epoch 2/140\n",
      "17/17 [==============================] - 0s 2ms/step - loss: 0.8777 - mean_squared_error: 0.5873\n",
      "Epoch 3/140\n",
      "17/17 [==============================] - 0s 2ms/step - loss: 0.5891 - mean_squared_error: 0.4175\n",
      "Epoch 4/140\n",
      "17/17 [==============================] - 0s 2ms/step - loss: 0.5071 - mean_squared_error: 0.3922\n",
      "Epoch 5/140\n",
      "17/17 [==============================] - 0s 2ms/step - loss: 0.4763 - mean_squared_error: 0.3840\n",
      "Epoch 6/140\n",
      "17/17 [==============================] - 0s 2ms/step - loss: 0.4610 - mean_squared_error: 0.3772\n",
      "Epoch 7/140\n",
      "17/17 [==============================] - 0s 2ms/step - loss: 0.4517 - mean_squared_error: 0.3749\n",
      "Epoch 8/140\n",
      "17/17 [==============================] - 0s 2ms/step - loss: 0.4452 - mean_squared_error: 0.3720\n",
      "Epoch 9/140\n",
      "17/17 [==============================] - 0s 2ms/step - loss: 0.4397 - mean_squared_error: 0.3714\n",
      "Epoch 10/140\n",
      "17/17 [==============================] - 0s 2ms/step - loss: 0.4391 - mean_squared_error: 0.3720\n",
      "Epoch 11/140\n",
      "17/17 [==============================] - 0s 2ms/step - loss: 0.4328 - mean_squared_error: 0.3688\n",
      "Epoch 12/140\n",
      "17/17 [==============================] - 0s 2ms/step - loss: 0.4295 - mean_squared_error: 0.3667\n",
      "Epoch 13/140\n",
      "17/17 [==============================] - 0s 2ms/step - loss: 0.4264 - mean_squared_error: 0.3650\n",
      "Epoch 14/140\n",
      "17/17 [==============================] - 0s 2ms/step - loss: 0.4258 - mean_squared_error: 0.3674\n",
      "Epoch 15/140\n",
      "17/17 [==============================] - 0s 2ms/step - loss: 0.4245 - mean_squared_error: 0.3647\n",
      "Epoch 16/140\n",
      "17/17 [==============================] - 0s 3ms/step - loss: 0.4224 - mean_squared_error: 0.3664\n",
      "Epoch 17/140\n",
      "17/17 [==============================] - 0s 2ms/step - loss: 0.4202 - mean_squared_error: 0.3631\n",
      "Epoch 18/140\n",
      "17/17 [==============================] - 0s 2ms/step - loss: 0.4168 - mean_squared_error: 0.3625\n",
      "Epoch 19/140\n",
      "17/17 [==============================] - 0s 2ms/step - loss: 0.4170 - mean_squared_error: 0.3631\n",
      "Epoch 20/140\n",
      "17/17 [==============================] - 0s 2ms/step - loss: 0.4157 - mean_squared_error: 0.3608\n",
      "Epoch 21/140\n",
      "17/17 [==============================] - 0s 2ms/step - loss: 0.4134 - mean_squared_error: 0.3609\n",
      "Epoch 22/140\n",
      "17/17 [==============================] - 0s 1ms/step - loss: 0.4138 - mean_squared_error: 0.3617\n",
      "Epoch 23/140\n",
      "17/17 [==============================] - 0s 2ms/step - loss: 0.4100 - mean_squared_error: 0.3583\n",
      "Epoch 24/140\n",
      "17/17 [==============================] - 0s 2ms/step - loss: 0.4092 - mean_squared_error: 0.3583\n",
      "Epoch 25/140\n",
      "17/17 [==============================] - 0s 2ms/step - loss: 0.4098 - mean_squared_error: 0.3600\n",
      "Epoch 26/140\n",
      "17/17 [==============================] - 0s 2ms/step - loss: 0.4084 - mean_squared_error: 0.3589\n",
      "Epoch 27/140\n",
      "17/17 [==============================] - 0s 2ms/step - loss: 0.4072 - mean_squared_error: 0.3581\n",
      "Epoch 28/140\n",
      "17/17 [==============================] - 0s 2ms/step - loss: 0.4051 - mean_squared_error: 0.3565\n",
      "Epoch 29/140\n",
      "17/17 [==============================] - 0s 2ms/step - loss: 0.4053 - mean_squared_error: 0.3563\n",
      "Epoch 30/140\n",
      "17/17 [==============================] - 0s 2ms/step - loss: 0.4062 - mean_squared_error: 0.3594\n",
      "Epoch 31/140\n",
      "17/17 [==============================] - 0s 2ms/step - loss: 0.4042 - mean_squared_error: 0.3562\n",
      "Epoch 32/140\n",
      "17/17 [==============================] - 0s 2ms/step - loss: 0.4035 - mean_squared_error: 0.3569\n",
      "Epoch 33/140\n",
      "17/17 [==============================] - 0s 2ms/step - loss: 0.4033 - mean_squared_error: 0.3566\n",
      "Epoch 34/140\n",
      "17/17 [==============================] - 0s 2ms/step - loss: 0.4121 - mean_squared_error: 0.3658\n",
      "Epoch 35/140\n",
      "17/17 [==============================] - 0s 2ms/step - loss: 0.4099 - mean_squared_error: 0.3638\n",
      "Epoch 36/140\n",
      "17/17 [==============================] - 0s 2ms/step - loss: 0.4013 - mean_squared_error: 0.3558\n",
      "Epoch 37/140\n",
      "17/17 [==============================] - 0s 2ms/step - loss: 0.4010 - mean_squared_error: 0.3560\n",
      "Epoch 38/140\n",
      "17/17 [==============================] - 0s 2ms/step - loss: 0.4018 - mean_squared_error: 0.3565\n",
      "Epoch 39/140\n",
      "17/17 [==============================] - 0s 2ms/step - loss: 0.4020 - mean_squared_error: 0.3579\n",
      "Epoch 40/140\n",
      "17/17 [==============================] - 0s 2ms/step - loss: 0.4032 - mean_squared_error: 0.3589\n",
      "Epoch 41/140\n",
      "17/17 [==============================] - 0s 2ms/step - loss: 0.4008 - mean_squared_error: 0.3565\n",
      "Epoch 42/140\n",
      "17/17 [==============================] - 0s 2ms/step - loss: 0.3981 - mean_squared_error: 0.3552\n",
      "Epoch 43/140\n",
      "17/17 [==============================] - 0s 2ms/step - loss: 0.3979 - mean_squared_error: 0.3554\n",
      "Epoch 44/140\n",
      "17/17 [==============================] - 0s 2ms/step - loss: 0.3966 - mean_squared_error: 0.3528\n",
      "Epoch 45/140\n",
      "17/17 [==============================] - 0s 2ms/step - loss: 0.3947 - mean_squared_error: 0.3528\n",
      "Epoch 46/140\n",
      "17/17 [==============================] - 0s 2ms/step - loss: 0.3942 - mean_squared_error: 0.3520\n",
      "Epoch 47/140\n",
      "17/17 [==============================] - 0s 2ms/step - loss: 0.3929 - mean_squared_error: 0.3503\n",
      "Epoch 48/140\n",
      "17/17 [==============================] - 0s 2ms/step - loss: 0.3953 - mean_squared_error: 0.3528\n",
      "Epoch 49/140\n",
      "17/17 [==============================] - 0s 2ms/step - loss: 0.3947 - mean_squared_error: 0.3528\n",
      "Epoch 50/140\n",
      "17/17 [==============================] - 0s 2ms/step - loss: 0.3927 - mean_squared_error: 0.3510\n",
      "Epoch 51/140\n",
      "17/17 [==============================] - 0s 2ms/step - loss: 0.3927 - mean_squared_error: 0.3522\n",
      "Epoch 52/140\n",
      "17/17 [==============================] - 0s 2ms/step - loss: 0.3934 - mean_squared_error: 0.3526\n",
      "Epoch 53/140\n",
      "17/17 [==============================] - 0s 2ms/step - loss: 0.3947 - mean_squared_error: 0.3530\n",
      "Epoch 54/140\n",
      "17/17 [==============================] - 0s 2ms/step - loss: 0.3943 - mean_squared_error: 0.3539\n",
      "Epoch 55/140\n",
      "17/17 [==============================] - 0s 2ms/step - loss: 0.3920 - mean_squared_error: 0.3511\n",
      "Epoch 56/140\n",
      "17/17 [==============================] - 0s 1ms/step - loss: 0.3895 - mean_squared_error: 0.3492\n",
      "Epoch 57/140\n",
      "17/17 [==============================] - 0s 1ms/step - loss: 0.3918 - mean_squared_error: 0.3518\n",
      "Epoch 58/140\n",
      "17/17 [==============================] - 0s 1ms/step - loss: 0.3916 - mean_squared_error: 0.3511\n",
      "Epoch 59/140\n",
      "17/17 [==============================] - 0s 2ms/step - loss: 0.3930 - mean_squared_error: 0.3532\n",
      "Epoch 60/140\n",
      "17/17 [==============================] - 0s 2ms/step - loss: 0.3898 - mean_squared_error: 0.3510\n",
      "Epoch 61/140\n",
      "17/17 [==============================] - 0s 2ms/step - loss: 0.3890 - mean_squared_error: 0.3500\n",
      "Epoch 62/140\n",
      "17/17 [==============================] - 0s 2ms/step - loss: 0.3918 - mean_squared_error: 0.3531\n",
      "Epoch 63/140\n",
      "17/17 [==============================] - 0s 2ms/step - loss: 0.3902 - mean_squared_error: 0.3504\n",
      "Epoch 64/140\n",
      "17/17 [==============================] - 0s 2ms/step - loss: 0.3882 - mean_squared_error: 0.3501\n",
      "Epoch 65/140\n",
      "17/17 [==============================] - 0s 2ms/step - loss: 0.3889 - mean_squared_error: 0.3504\n",
      "Epoch 66/140\n",
      "17/17 [==============================] - 0s 2ms/step - loss: 0.3909 - mean_squared_error: 0.3530\n",
      "Epoch 67/140\n",
      "17/17 [==============================] - 0s 2ms/step - loss: 0.3935 - mean_squared_error: 0.3558\n",
      "Epoch 68/140\n",
      "17/17 [==============================] - 0s 2ms/step - loss: 0.3881 - mean_squared_error: 0.3501\n",
      "Epoch 69/140\n",
      "17/17 [==============================] - 0s 2ms/step - loss: 0.3869 - mean_squared_error: 0.3495\n",
      "Epoch 70/140\n",
      "17/17 [==============================] - 0s 2ms/step - loss: 0.3871 - mean_squared_error: 0.3499\n",
      "Epoch 71/140\n",
      "17/17 [==============================] - 0s 2ms/step - loss: 0.3897 - mean_squared_error: 0.3519\n",
      "Epoch 72/140\n",
      "17/17 [==============================] - 0s 1ms/step - loss: 0.3857 - mean_squared_error: 0.3490\n",
      "Epoch 73/140\n",
      "17/17 [==============================] - 0s 2ms/step - loss: 0.3879 - mean_squared_error: 0.3508\n",
      "Epoch 74/140\n",
      "17/17 [==============================] - 0s 2ms/step - loss: 0.3850 - mean_squared_error: 0.3482\n",
      "Epoch 75/140\n",
      "17/17 [==============================] - 0s 1ms/step - loss: 0.3863 - mean_squared_error: 0.3494\n",
      "Epoch 76/140\n",
      "17/17 [==============================] - 0s 2ms/step - loss: 0.3868 - mean_squared_error: 0.3511\n",
      "Epoch 77/140\n",
      "17/17 [==============================] - 0s 2ms/step - loss: 0.3918 - mean_squared_error: 0.3546\n",
      "Epoch 78/140\n",
      "17/17 [==============================] - 0s 2ms/step - loss: 0.3847 - mean_squared_error: 0.3488\n",
      "Epoch 79/140\n",
      "17/17 [==============================] - 0s 2ms/step - loss: 0.3845 - mean_squared_error: 0.3483\n",
      "Epoch 80/140\n",
      "17/17 [==============================] - 0s 2ms/step - loss: 0.3842 - mean_squared_error: 0.3485\n",
      "Epoch 81/140\n",
      "17/17 [==============================] - 0s 2ms/step - loss: 0.3867 - mean_squared_error: 0.3506\n",
      "Epoch 82/140\n",
      "17/17 [==============================] - 0s 1ms/step - loss: 0.3854 - mean_squared_error: 0.3510\n",
      "Epoch 83/140\n",
      "17/17 [==============================] - 0s 2ms/step - loss: 0.3838 - mean_squared_error: 0.3482\n",
      "Epoch 84/140\n",
      "17/17 [==============================] - 0s 2ms/step - loss: 0.3818 - mean_squared_error: 0.3463\n",
      "Epoch 85/140\n",
      "17/17 [==============================] - 0s 2ms/step - loss: 0.3835 - mean_squared_error: 0.3491\n",
      "Epoch 86/140\n",
      "17/17 [==============================] - 0s 2ms/step - loss: 0.3844 - mean_squared_error: 0.3490\n",
      "Epoch 87/140\n",
      "17/17 [==============================] - 0s 2ms/step - loss: 0.3835 - mean_squared_error: 0.3488\n",
      "Epoch 88/140\n",
      "17/17 [==============================] - 0s 2ms/step - loss: 0.3833 - mean_squared_error: 0.3490\n",
      "Epoch 89/140\n",
      "17/17 [==============================] - 0s 2ms/step - loss: 0.3822 - mean_squared_error: 0.3478\n",
      "Epoch 90/140\n",
      "17/17 [==============================] - 0s 2ms/step - loss: 0.3812 - mean_squared_error: 0.3474\n",
      "Epoch 91/140\n",
      "17/17 [==============================] - 0s 2ms/step - loss: 0.3804 - mean_squared_error: 0.3466\n",
      "Epoch 92/140\n",
      "17/17 [==============================] - 0s 2ms/step - loss: 0.3808 - mean_squared_error: 0.3467\n",
      "Epoch 93/140\n",
      "17/17 [==============================] - 0s 2ms/step - loss: 0.3797 - mean_squared_error: 0.3461\n",
      "Epoch 94/140\n",
      "17/17 [==============================] - 0s 2ms/step - loss: 0.3791 - mean_squared_error: 0.3455\n",
      "Epoch 95/140\n",
      "17/17 [==============================] - 0s 1ms/step - loss: 0.3802 - mean_squared_error: 0.3464\n",
      "Epoch 96/140\n",
      "17/17 [==============================] - 0s 2ms/step - loss: 0.3809 - mean_squared_error: 0.3474\n",
      "Epoch 97/140\n",
      "17/17 [==============================] - 0s 2ms/step - loss: 0.3809 - mean_squared_error: 0.3479\n",
      "Epoch 98/140\n",
      "17/17 [==============================] - 0s 1ms/step - loss: 0.3803 - mean_squared_error: 0.3471\n",
      "Epoch 99/140\n",
      "17/17 [==============================] - 0s 2ms/step - loss: 0.3787 - mean_squared_error: 0.3460\n",
      "Epoch 100/140\n",
      "17/17 [==============================] - 0s 2ms/step - loss: 0.3779 - mean_squared_error: 0.3455\n",
      "Epoch 101/140\n",
      "17/17 [==============================] - 0s 1ms/step - loss: 0.3850 - mean_squared_error: 0.3524\n",
      "Epoch 102/140\n",
      "17/17 [==============================] - 0s 2ms/step - loss: 0.3861 - mean_squared_error: 0.3526\n",
      "Epoch 103/140\n",
      "17/17 [==============================] - 0s 2ms/step - loss: 0.3804 - mean_squared_error: 0.3480\n",
      "Epoch 104/140\n",
      "17/17 [==============================] - 0s 2ms/step - loss: 0.3798 - mean_squared_error: 0.3474\n",
      "Epoch 105/140\n",
      "17/17 [==============================] - 0s 2ms/step - loss: 0.3837 - mean_squared_error: 0.3514\n",
      "Epoch 106/140\n",
      "17/17 [==============================] - 0s 2ms/step - loss: 0.3859 - mean_squared_error: 0.3532\n",
      "Epoch 107/140\n",
      "17/17 [==============================] - 0s 2ms/step - loss: 0.3810 - mean_squared_error: 0.3491\n",
      "Epoch 108/140\n",
      "17/17 [==============================] - 0s 1ms/step - loss: 0.3777 - mean_squared_error: 0.3456\n",
      "Epoch 109/140\n",
      "17/17 [==============================] - 0s 1ms/step - loss: 0.3788 - mean_squared_error: 0.3472\n",
      "Epoch 110/140\n",
      "17/17 [==============================] - 0s 2ms/step - loss: 0.3787 - mean_squared_error: 0.3467\n",
      "Epoch 111/140\n",
      "17/17 [==============================] - 0s 2ms/step - loss: 0.3791 - mean_squared_error: 0.3465\n",
      "Epoch 112/140\n",
      "17/17 [==============================] - 0s 2ms/step - loss: 0.3774 - mean_squared_error: 0.3464\n",
      "Epoch 113/140\n",
      "17/17 [==============================] - 0s 2ms/step - loss: 0.3780 - mean_squared_error: 0.3464\n",
      "Epoch 114/140\n",
      "17/17 [==============================] - 0s 2ms/step - loss: 0.3775 - mean_squared_error: 0.3465\n",
      "Epoch 115/140\n",
      "17/17 [==============================] - 0s 2ms/step - loss: 0.3767 - mean_squared_error: 0.3452\n",
      "Epoch 116/140\n",
      "17/17 [==============================] - 0s 2ms/step - loss: 0.3772 - mean_squared_error: 0.3459\n",
      "Epoch 117/140\n",
      "17/17 [==============================] - 0s 2ms/step - loss: 0.3782 - mean_squared_error: 0.3477\n",
      "Epoch 118/140\n",
      "17/17 [==============================] - 0s 2ms/step - loss: 0.3765 - mean_squared_error: 0.3448\n",
      "Epoch 119/140\n",
      "17/17 [==============================] - 0s 2ms/step - loss: 0.3758 - mean_squared_error: 0.3448\n",
      "Epoch 120/140\n",
      "17/17 [==============================] - 0s 2ms/step - loss: 0.3763 - mean_squared_error: 0.3455\n",
      "Epoch 121/140\n",
      "17/17 [==============================] - 0s 2ms/step - loss: 0.3748 - mean_squared_error: 0.3437\n",
      "Epoch 122/140\n",
      "17/17 [==============================] - 0s 2ms/step - loss: 0.3755 - mean_squared_error: 0.3450\n",
      "Epoch 123/140\n",
      "17/17 [==============================] - 0s 1ms/step - loss: 0.3755 - mean_squared_error: 0.3444\n",
      "Epoch 124/140\n",
      "17/17 [==============================] - 0s 2ms/step - loss: 0.3747 - mean_squared_error: 0.3442\n",
      "Epoch 125/140\n",
      "17/17 [==============================] - 0s 1ms/step - loss: 0.3750 - mean_squared_error: 0.3450\n",
      "Epoch 126/140\n",
      "17/17 [==============================] - 0s 2ms/step - loss: 0.3758 - mean_squared_error: 0.3453\n",
      "Epoch 127/140\n",
      "17/17 [==============================] - 0s 2ms/step - loss: 0.3755 - mean_squared_error: 0.3456\n",
      "Epoch 128/140\n",
      "17/17 [==============================] - 0s 2ms/step - loss: 0.3760 - mean_squared_error: 0.3455\n",
      "Epoch 129/140\n",
      "17/17 [==============================] - 0s 2ms/step - loss: 0.3768 - mean_squared_error: 0.3468\n",
      "Epoch 130/140\n",
      "17/17 [==============================] - 0s 2ms/step - loss: 0.3738 - mean_squared_error: 0.3444\n",
      "Epoch 131/140\n",
      "17/17 [==============================] - 0s 2ms/step - loss: 0.3738 - mean_squared_error: 0.3438\n",
      "Epoch 132/140\n",
      "17/17 [==============================] - 0s 2ms/step - loss: 0.3739 - mean_squared_error: 0.3442\n",
      "Epoch 133/140\n",
      "17/17 [==============================] - 0s 2ms/step - loss: 0.3740 - mean_squared_error: 0.3450\n",
      "Epoch 134/140\n",
      "17/17 [==============================] - 0s 2ms/step - loss: 0.3760 - mean_squared_error: 0.3462\n",
      "Epoch 135/140\n",
      "17/17 [==============================] - 0s 1ms/step - loss: 0.3782 - mean_squared_error: 0.3493\n",
      "Epoch 136/140\n",
      "17/17 [==============================] - 0s 2ms/step - loss: 0.3780 - mean_squared_error: 0.3482\n",
      "Epoch 137/140\n",
      "17/17 [==============================] - 0s 2ms/step - loss: 0.3748 - mean_squared_error: 0.3454\n",
      "Epoch 138/140\n",
      "17/17 [==============================] - 0s 2ms/step - loss: 0.3731 - mean_squared_error: 0.3437\n",
      "Epoch 139/140\n",
      "17/17 [==============================] - 0s 2ms/step - loss: 0.3728 - mean_squared_error: 0.3442\n",
      "Epoch 140/140\n",
      "17/17 [==============================] - 0s 2ms/step - loss: 0.3735 - mean_squared_error: 0.3444\n"
     ]
    },
    {
     "data": {
      "image/png": "[encoded data removed]",
      "text/plain": [
       "<Figure size 640x480 with 1 Axes>"
      ]
     },
     "metadata": {},
     "output_type": "display_data"
    },
    {
     "name": "stdout",
     "output_type": "stream",
     "text": [
      "\n",
      " Evaluate the new model against the test set:\n",
      "WARNING:tensorflow:Layers in a Sequential model should only have a single input tensor. Received: inputs={'longitude': <tf.Tensor 'IteratorGetNext:3' shape=(1000,) dtype=float32>, 'latitude': <tf.Tensor 'IteratorGetNext:2' shape=(1000,) dtype=float32>, 'housing_median_age': <tf.Tensor 'IteratorGetNext:1' shape=(1000,) dtype=float32>, 'total_rooms': <tf.Tensor 'IteratorGetNext:7' shape=(1000,) dtype=float32>, 'total_bedrooms': <tf.Tensor 'IteratorGetNext:6' shape=(1000,) dtype=float32>, 'population': <tf.Tensor 'IteratorGetNext:5' shape=(1000,) dtype=float32>, 'households': <tf.Tensor 'IteratorGetNext:0' shape=(1000,) dtype=float32>, 'median_income': <tf.Tensor 'IteratorGetNext:4' shape=(1000,) dtype=float32>}. Consider rewriting this model with the Functional API.\n",
      "3/3 [==============================] - 0s 2ms/step - loss: 0.4033 - mean_squared_error: 0.3747\n"
     ]
    },
    {
     "data": {
      "text/plain": [
       "[0.403282105922699, 0.3746623992919922]"
      ]
     },
     "execution_count": 45,
     "metadata": {},
     "output_type": "execute_result"
    }
   ],
   "source": [
    "# Hyperparameters.\n",
    "learning_rate = 0.007\n",
    "epochs = 140\n",
    "batch_size = 1000\n",
    "\n",
    "label_name = \"median_house_value\"\n",
    "\n",
    "my_model = create_model(learning_rate, my_feature_layer)\n",
    "\n",
    "epochs, mse = train_model(my_model, train_df_norm, epochs, label_name, batch_size)\n",
    "plot_the_loss_curve(epochs, mse)\n",
    "\n",
    "# Test the model\n",
    "test_features = {name:np.array(value) for name, value in test_df_norm.items()}\n",
    "test_label = np.array(test_features.pop(label_name))\n",
    "print(\"\\n Evaluate the new model against the test set:\")\n",
    "my_model.evaluate(x=test_features, y=test_label, batch_size=batch_size)"
   ]
  },
  {
   "cell_type": "code",
   "execution_count": 47,
   "metadata": {},
   "outputs": [
    {
     "name": "stdout",
     "output_type": "stream",
     "text": [
      "Before regularization: -0.040100000000000025\n",
      "After regularization: -0.029799999999999993\n"
     ]
    }
   ],
   "source": [
    "print(f\"Before regularization: {0.32680 - 0.3669}\")\n",
    "print(f\"After regularization: {0.3735 - 0.4033}\")"
   ]
  },
  {
   "cell_type": "code",
   "execution_count": null,
   "metadata": {},
   "outputs": [],
   "source": []
  }
 ],
 "metadata": {
  "kernelspec": {
   "display_name": "tf2.11",
   "language": "python",
   "name": "python3"
  },
  "language_info": {
   "codemirror_mode": {
    "name": "ipython",
    "version": 3
   },
   "file_extension": ".py",
   "mimetype": "text/x-python",
   "name": "python",
   "nbconvert_exporter": "python",
   "pygments_lexer": "ipython3",
   "version": "3.10.0"
  },
  "orig_nbformat": 4,
  "vscode": {
   "interpreter": {
    "hash": "4fd1d7371a990379a28203bebafbc67e68666423e9a038914ec6151938a890aa"
   }
  }
 },
 "nbformat": 4,
 "nbformat_minor": 2
}
