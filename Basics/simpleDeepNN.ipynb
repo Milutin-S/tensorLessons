{
 "cells": [
  {
   "attachments": {},
   "cell_type": "markdown",
   "metadata": {},
   "source": [
    "# Import relevant modules"
   ]
  },
  {
   "cell_type": "code",
   "execution_count": 3,
   "metadata": {},
   "outputs": [
    {
     "name": "stdout",
     "output_type": "stream",
     "text": [
      "Imported modules.\n"
     ]
    }
   ],
   "source": [
    "import numpy as np\n",
    "import pandas as pd\n",
    "import tensorflow as tf\n",
    "from tensorflow.keras import layers\n",
    "from matplotlib import pyplot as plt\n",
    "import seaborn as sns\n",
    "\n",
    "pd.options.display.max_rows = 10\n",
    "pd.options.display.float_format = \"{:.1f}\".format\n",
    "\n",
    "print(\"Imported modules.\")"
   ]
  },
  {
   "attachments": {},
   "cell_type": "markdown",
   "metadata": {},
   "source": [
    "# Load the dataset"
   ]
  },
  {
   "cell_type": "code",
   "execution_count": 4,
   "metadata": {},
   "outputs": [],
   "source": [
    "train_df = pd.read_csv(\"https://download.mlcc.google.com/mledu-datasets/california_housing_train.csv\")\n",
    "# Shuffle the examples\n",
    "train_df = train_df.reindex(np.random.permutation(train_df.index))\n",
    "test_df = pd.read_csv(\"https://download.mlcc.google.com/mledu-datasets/california_housing_test.csv\")"
   ]
  },
  {
   "attachments": {},
   "cell_type": "markdown",
   "metadata": {},
   "source": [
    "## Normalize values: Z-scores"
   ]
  },
  {
   "cell_type": "code",
   "execution_count": 5,
   "metadata": {},
   "outputs": [
    {
     "name": "stdout",
     "output_type": "stream",
     "text": [
      "Normalized the values.\n"
     ]
    }
   ],
   "source": [
    "train_df_mean = train_df.mean()\n",
    "train_df_std = train_df.std()\n",
    "train_df_norm = (train_df - train_df_mean)/train_df_std\n",
    "\n",
    "test_df_mean = test_df.mean()\n",
    "test_df_std = test_df.std()\n",
    "test_df_norm = (test_df - test_df_mean)/test_df_std\n",
    "\n",
    "print(\"Normalized the values.\")"
   ]
  },
  {
   "attachments": {},
   "cell_type": "markdown",
   "metadata": {},
   "source": [
    "## Represent data\n",
    "Create a feature layer containing three features:\n",
    "- latitude X longitude\n",
    "- meadian_income\n",
    "- population"
   ]
  },
  {
   "cell_type": "code",
   "execution_count": 7,
   "metadata": {},
   "outputs": [],
   "source": [
    "feature_columns = []\n",
    "\n",
    "resolution_in_Zs = 0.3 # 3/10 of a standard deviation\n",
    "\n",
    "# Create a bucket feature column for latitude.\n",
    "latitude_as_a_numeric_column = tf.feature_column.numeric_column(\"latitude\")\n",
    "latitude_boundaries = list(np.arange(int(min(train_df_norm['latitude'])),\n",
    "                                     int(max(train_df_norm['latitude'])),\n",
    "                                     resolution_in_Zs))\n",
    "latitude = tf.feature_column.bucketized_column(latitude_as_a_numeric_column, latitude_boundaries)\n",
    "\n",
    "# Create a bucket feature column for longitude.\n",
    "longitude_as_a_numeric_column = tf.feature_column.numeric_column(\"longitude\")\n",
    "longitude_boundaries = list(np.arange(int(min(train_df_norm['longitude'])),\n",
    "                                     int(max(train_df_norm['longitude'])),\n",
    "                                     resolution_in_Zs))\n",
    "longitude = tf.feature_column.bucketized_column(longitude_as_a_numeric_column, longitude_boundaries)\n",
    "\n",
    "# Create a feature cross of latitude and longitude.\n",
    "latitude_x_longitude = tf.feature_column.crossed_column([latitude, longitude], hash_bucket_size=100)\n",
    "crossed_feature = tf.feature_column.indicator_column(latitude_x_longitude)\n",
    "feature_columns.append(crossed_feature)\n",
    "\n",
    "# Represent median_income as floating-point value.\n",
    "median_income = tf.feature_column.numeric_column(\"median_income\")\n",
    "feature_columns.append(median_income)\n",
    "\n",
    "# Represent population as floating-point value.\n",
    "population = tf.feature_column.numeric_column(\"population\")\n",
    "feature_columns.append(population)\n",
    "\n",
    "# Convert the list of feature columns into layer that will later be fed into the model\n",
    "my_feature_layer = tf.keras.layers.DenseFeatures(feature_columns)"
   ]
  },
  {
   "attachments": {},
   "cell_type": "markdown",
   "metadata": {},
   "source": [
    "# Define the plottiong function"
   ]
  },
  {
   "cell_type": "code",
   "execution_count": 9,
   "metadata": {},
   "outputs": [
    {
     "name": "stdout",
     "output_type": "stream",
     "text": [
      "Defined the plot_loss_curve_function.\n"
     ]
    }
   ],
   "source": [
    "def plot_the_loss_curve(epochs, mse):\n",
    "    \"\"\"Plot a curve of loss vs. epoch.\"\"\"\n",
    "\n",
    "    plt.figure()\n",
    "    plt.xlabel(\"Epoch\")\n",
    "    plt.ylabel(\"Mean Squared Error\")\n",
    "\n",
    "    plt.plot(epochs, mse, label=\"Loss\")\n",
    "    plt.legend()\n",
    "    plt.ylim([mse.min()*0.95, mse.max()*1.03])\n",
    "    plt.show()\n",
    "\n",
    "print(\"Defined the plot_loss_curve_function.\")"
   ]
  },
  {
   "attachments": {},
   "cell_type": "markdown",
   "metadata": {},
   "source": [
    "# Build a linear regression model as a baseline"
   ]
  },
  {
   "cell_type": "code",
   "execution_count": 11,
   "metadata": {},
   "outputs": [
    {
     "name": "stdout",
     "output_type": "stream",
     "text": [
      "Defined the create_model and train_model functions.\n"
     ]
    }
   ],
   "source": [
    "def create_model(my_learning_rate, feature_layer):\n",
    "    \"\"\"Create and compile a simple linear regression model.\"\"\"\n",
    "\n",
    "    model = tf.keras.models.Sequential()\n",
    "    model.add(feature_layer)\n",
    "    model.add(tf.keras.layers.Dense(units=1, input_shape=(1,)))\n",
    "    model.compile(optimizer=tf.keras.optimizers.experimental.RMSprop(learning_rate=my_learning_rate),\n",
    "                  loss=\"mean_squared_error\",\n",
    "                  metrics=[tf.keras.metrics.MeanSquaredError()])\n",
    "    \n",
    "    return model\n",
    "\n",
    "def train_model(model, dataset, epochs, batch_size, label_name):\n",
    "    \"\"\"Feed a dataset into the model in order to train it.\"\"\"\n",
    "\n",
    "    # Split the dataset into features and label.\n",
    "    features = {name:np.array(value) for name, value in dataset.items()}\n",
    "    label = np.array(features.pop(label_name))\n",
    "    history = model.fit(x=features, y=label, batch_size=batch_size,\n",
    "                        epochs=epochs, shuffle=True)\n",
    "    \n",
    "    # Get details that will be useful for plotting the loss curve.\n",
    "    epochs= history.epoch\n",
    "    hist = pd.DataFrame(history.history)\n",
    "    rmse = hist[\"mean_squared_error\"]\n",
    "\n",
    "    return epochs, rmse\n",
    "\n",
    "print(\"Defined the create_model and train_model functions.\")"
   ]
  },
  {
   "attachments": {},
   "cell_type": "markdown",
   "metadata": {},
   "source": [
    "## Run baseline model"
   ]
  },
  {
   "cell_type": "code",
   "execution_count": 12,
   "metadata": {},
   "outputs": [
    {
     "name": "stdout",
     "output_type": "stream",
     "text": [
      "Epoch 1/15\n",
      "WARNING:tensorflow:Layers in a Sequential model should only have a single input tensor. Received: inputs={'longitude': <tf.Tensor 'IteratorGetNext:3' shape=(1000,) dtype=float32>, 'latitude': <tf.Tensor 'IteratorGetNext:2' shape=(1000,) dtype=float32>, 'housing_median_age': <tf.Tensor 'IteratorGetNext:1' shape=(1000,) dtype=float32>, 'total_rooms': <tf.Tensor 'IteratorGetNext:7' shape=(1000,) dtype=float32>, 'total_bedrooms': <tf.Tensor 'IteratorGetNext:6' shape=(1000,) dtype=float32>, 'population': <tf.Tensor 'IteratorGetNext:5' shape=(1000,) dtype=float32>, 'households': <tf.Tensor 'IteratorGetNext:0' shape=(1000,) dtype=float32>, 'median_income': <tf.Tensor 'IteratorGetNext:4' shape=(1000,) dtype=float32>}. Consider rewriting this model with the Functional API.\n",
      "WARNING:tensorflow:Layers in a Sequential model should only have a single input tensor. Received: inputs={'longitude': <tf.Tensor 'IteratorGetNext:3' shape=(1000,) dtype=float32>, 'latitude': <tf.Tensor 'IteratorGetNext:2' shape=(1000,) dtype=float32>, 'housing_median_age': <tf.Tensor 'IteratorGetNext:1' shape=(1000,) dtype=float32>, 'total_rooms': <tf.Tensor 'IteratorGetNext:7' shape=(1000,) dtype=float32>, 'total_bedrooms': <tf.Tensor 'IteratorGetNext:6' shape=(1000,) dtype=float32>, 'population': <tf.Tensor 'IteratorGetNext:5' shape=(1000,) dtype=float32>, 'households': <tf.Tensor 'IteratorGetNext:0' shape=(1000,) dtype=float32>, 'median_income': <tf.Tensor 'IteratorGetNext:4' shape=(1000,) dtype=float32>}. Consider rewriting this model with the Functional API.\n",
      "17/17 [==============================] - 1s 1ms/step - loss: 0.9778 - mean_squared_error: 0.9778\n",
      "Epoch 2/15\n",
      "17/17 [==============================] - 0s 2ms/step - loss: 0.6639 - mean_squared_error: 0.6639\n",
      "Epoch 3/15\n",
      "17/17 [==============================] - 0s 1ms/step - loss: 0.5013 - mean_squared_error: 0.5013\n",
      "Epoch 4/15\n",
      "17/17 [==============================] - 0s 2ms/step - loss: 0.4133 - mean_squared_error: 0.4133\n",
      "Epoch 5/15\n",
      "17/17 [==============================] - 0s 1ms/step - loss: 0.3747 - mean_squared_error: 0.3747\n",
      "Epoch 6/15\n",
      "17/17 [==============================] - 0s 2ms/step - loss: 0.3626 - mean_squared_error: 0.3626\n",
      "Epoch 7/15\n",
      "17/17 [==============================] - 0s 1ms/step - loss: 0.3607 - mean_squared_error: 0.3607\n",
      "Epoch 8/15\n",
      "17/17 [==============================] - 0s 2ms/step - loss: 0.3601 - mean_squared_error: 0.3601\n",
      "Epoch 9/15\n",
      "17/17 [==============================] - 0s 1ms/step - loss: 0.3600 - mean_squared_error: 0.3600\n",
      "Epoch 10/15\n",
      "17/17 [==============================] - 0s 2ms/step - loss: 0.3602 - mean_squared_error: 0.3602\n",
      "Epoch 11/15\n",
      "17/17 [==============================] - 0s 2ms/step - loss: 0.3599 - mean_squared_error: 0.3599\n",
      "Epoch 12/15\n",
      "17/17 [==============================] - 0s 1ms/step - loss: 0.3600 - mean_squared_error: 0.3600\n",
      "Epoch 13/15\n",
      "17/17 [==============================] - 0s 2ms/step - loss: 0.3601 - mean_squared_error: 0.3601\n",
      "Epoch 14/15\n",
      "17/17 [==============================] - 0s 1ms/step - loss: 0.3597 - mean_squared_error: 0.3597\n",
      "Epoch 15/15\n",
      "17/17 [==============================] - 0s 2ms/step - loss: 0.3600 - mean_squared_error: 0.3600\n"
     ]
    },
    {
     "data": {
      "image/png": "[encoded data removed]",
      "text/plain": [
       "<Figure size 640x480 with 1 Axes>"
      ]
     },
     "metadata": {},
     "output_type": "display_data"
    },
    {
     "name": "stdout",
     "output_type": "stream",
     "text": [
      "\n",
      " Evaluate the linear regression model against the test set:\n",
      "WARNING:tensorflow:Layers in a Sequential model should only have a single input tensor. Received: inputs={'longitude': <tf.Tensor 'IteratorGetNext:3' shape=(1000,) dtype=float32>, 'latitude': <tf.Tensor 'IteratorGetNext:2' shape=(1000,) dtype=float32>, 'housing_median_age': <tf.Tensor 'IteratorGetNext:1' shape=(1000,) dtype=float32>, 'total_rooms': <tf.Tensor 'IteratorGetNext:7' shape=(1000,) dtype=float32>, 'total_bedrooms': <tf.Tensor 'IteratorGetNext:6' shape=(1000,) dtype=float32>, 'population': <tf.Tensor 'IteratorGetNext:5' shape=(1000,) dtype=float32>, 'households': <tf.Tensor 'IteratorGetNext:0' shape=(1000,) dtype=float32>, 'median_income': <tf.Tensor 'IteratorGetNext:4' shape=(1000,) dtype=float32>}. Consider rewriting this model with the Functional API.\n",
      "3/3 [==============================] - 0s 2ms/step - loss: 0.3957 - mean_squared_error: 0.3957\n"
     ]
    },
    {
     "data": {
      "text/plain": [
       "[0.3957277834415436, 0.3957277834415436]"
      ]
     },
     "execution_count": 12,
     "metadata": {},
     "output_type": "execute_result"
    }
   ],
   "source": [
    "# Hyperparameters.\n",
    "learning_rate = 0.01\n",
    "epochs = 15\n",
    "batch_size = 1000\n",
    "label_name = \"median_house_value\"\n",
    "\n",
    "# Create the model.\n",
    "my_model = create_model(learning_rate, my_feature_layer)\n",
    "\n",
    "# Train the model on normalized training set.\n",
    "epochs, mse = train_model(my_model, train_df_norm, epochs, batch_size, label_name)\n",
    "plot_the_loss_curve(epochs, mse)\n",
    "\n",
    "test_features = {name:np.array(value) for name, value in test_df_norm.items()}\n",
    "# Isolate the label\n",
    "test_label = np.array(test_features.pop(label_name))\n",
    "print(\"\\n Evaluate the linear regression model against the test set:\")\n",
    "my_model.evaluate(x=test_features, y=test_label, batch_size=batch_size)"
   ]
  },
  {
   "attachments": {},
   "cell_type": "markdown",
   "metadata": {},
   "source": [
    "# Define a deep neural net model and training function"
   ]
  },
  {
   "cell_type": "code",
   "execution_count": 13,
   "metadata": {},
   "outputs": [],
   "source": [
    "def create_model(my_learning_rate, my_feature_layer):\n",
    "    \"\"\"Create and compile a deep learning neural network.\"\"\"\n",
    "\n",
    "    model = tf.keras.models.Sequential()\n",
    "    model.add(my_feature_layer)\n",
    "\n",
    "    # Define the firs hidden layer with 20 nodes.\n",
    "    model.add(tf.keras.layers.Dense(units=20,\n",
    "                                    activation='relu',\n",
    "                                    name='Hidden1'))\n",
    "    # Define the firs hidden layer with 20 nodes.\n",
    "    model.add(tf.keras.layers.Dense(units=12,\n",
    "                                    activation='relu',\n",
    "                                    name='Hidden2'))\n",
    "    # Define the output layer.\n",
    "    model.add(tf.keras.layers.Dense(units=1,\n",
    "                                    name='Output'))\n",
    "    model.compile(optimizer=tf.keras.optimizers.Adam(learning_rate=my_learning_rate),\n",
    "                  loss=\"mean_squared_error\",\n",
    "                  metrics=[tf.keras.metrics.MeanSquaredError()])\n",
    "    \n",
    "    return model\n",
    "\n",
    "def train_model(model, dataset, epochs, label_name, batch_size=None):\n",
    "    \"\"\"Train the model by feeding it data.\"\"\"\n",
    "\n",
    "    features = {name:np.array(value) for name, value in dataset.items()}\n",
    "    label = np.array(features.pop(label_name))\n",
    "    history = model.fit(x=features, y=label, batch_size=batch_size, epochs=epochs, shuffle=True)\n",
    "\n",
    "    # The list of epochs is stored separately from the rest of history.\n",
    "    epochs = history.epoch\n",
    "\n",
    "    # To track the progression of training, gather a snapshot\n",
    "    # of the model's mean squared error at each epoch.\n",
    "    hist = pd.DataFrame(history.history)\n",
    "    mse = hist[\"mean_squared_error\"]\n",
    "\n",
    "    return epochs, mse"
   ]
  },
  {
   "attachments": {},
   "cell_type": "markdown",
   "metadata": {},
   "source": [
    "## Run the Deep NN model"
   ]
  },
  {
   "cell_type": "code",
   "execution_count": 14,
   "metadata": {},
   "outputs": [
    {
     "name": "stdout",
     "output_type": "stream",
     "text": [
      "Epoch 1/20\n",
      "WARNING:tensorflow:Layers in a Sequential model should only have a single input tensor. Received: inputs={'longitude': <tf.Tensor 'IteratorGetNext:3' shape=(1000,) dtype=float32>, 'latitude': <tf.Tensor 'IteratorGetNext:2' shape=(1000,) dtype=float32>, 'housing_median_age': <tf.Tensor 'IteratorGetNext:1' shape=(1000,) dtype=float32>, 'total_rooms': <tf.Tensor 'IteratorGetNext:7' shape=(1000,) dtype=float32>, 'total_bedrooms': <tf.Tensor 'IteratorGetNext:6' shape=(1000,) dtype=float32>, 'population': <tf.Tensor 'IteratorGetNext:5' shape=(1000,) dtype=float32>, 'households': <tf.Tensor 'IteratorGetNext:0' shape=(1000,) dtype=float32>, 'median_income': <tf.Tensor 'IteratorGetNext:4' shape=(1000,) dtype=float32>}. Consider rewriting this model with the Functional API.\n",
      "WARNING:tensorflow:Layers in a Sequential model should only have a single input tensor. Received: inputs={'longitude': <tf.Tensor 'IteratorGetNext:3' shape=(1000,) dtype=float32>, 'latitude': <tf.Tensor 'IteratorGetNext:2' shape=(1000,) dtype=float32>, 'housing_median_age': <tf.Tensor 'IteratorGetNext:1' shape=(1000,) dtype=float32>, 'total_rooms': <tf.Tensor 'IteratorGetNext:7' shape=(1000,) dtype=float32>, 'total_bedrooms': <tf.Tensor 'IteratorGetNext:6' shape=(1000,) dtype=float32>, 'population': <tf.Tensor 'IteratorGetNext:5' shape=(1000,) dtype=float32>, 'households': <tf.Tensor 'IteratorGetNext:0' shape=(1000,) dtype=float32>, 'median_income': <tf.Tensor 'IteratorGetNext:4' shape=(1000,) dtype=float32>}. Consider rewriting this model with the Functional API.\n",
      "17/17 [==============================] - 0s 1ms/step - loss: 0.6367 - mean_squared_error: 0.6367\n",
      "Epoch 2/20\n",
      "17/17 [==============================] - 0s 2ms/step - loss: 0.3696 - mean_squared_error: 0.3696\n",
      "Epoch 3/20\n",
      "17/17 [==============================] - 0s 1ms/step - loss: 0.3424 - mean_squared_error: 0.3424\n",
      "Epoch 4/20\n",
      "17/17 [==============================] - 0s 2ms/step - loss: 0.3370 - mean_squared_error: 0.3370\n",
      "Epoch 5/20\n",
      "17/17 [==============================] - 0s 2ms/step - loss: 0.3346 - mean_squared_error: 0.3346\n",
      "Epoch 6/20\n",
      "17/17 [==============================] - 0s 1ms/step - loss: 0.3332 - mean_squared_error: 0.3332\n",
      "Epoch 7/20\n",
      "17/17 [==============================] - 0s 2ms/step - loss: 0.3335 - mean_squared_error: 0.3335\n",
      "Epoch 8/20\n",
      "17/17 [==============================] - 0s 2ms/step - loss: 0.3317 - mean_squared_error: 0.3317\n",
      "Epoch 9/20\n",
      "17/17 [==============================] - 0s 2ms/step - loss: 0.3312 - mean_squared_error: 0.3312\n",
      "Epoch 10/20\n",
      "17/17 [==============================] - 0s 2ms/step - loss: 0.3309 - mean_squared_error: 0.3309\n",
      "Epoch 11/20\n",
      "17/17 [==============================] - 0s 3ms/step - loss: 0.3297 - mean_squared_error: 0.3297\n",
      "Epoch 12/20\n",
      "17/17 [==============================] - 0s 2ms/step - loss: 0.3296 - mean_squared_error: 0.3296\n",
      "Epoch 13/20\n",
      "17/17 [==============================] - 0s 2ms/step - loss: 0.3281 - mean_squared_error: 0.3281\n",
      "Epoch 14/20\n",
      "17/17 [==============================] - 0s 2ms/step - loss: 0.3279 - mean_squared_error: 0.3279\n",
      "Epoch 15/20\n",
      "17/17 [==============================] - 0s 2ms/step - loss: 0.3271 - mean_squared_error: 0.3271\n",
      "Epoch 16/20\n",
      "17/17 [==============================] - 0s 2ms/step - loss: 0.3263 - mean_squared_error: 0.3263\n",
      "Epoch 17/20\n",
      "17/17 [==============================] - 0s 2ms/step - loss: 0.3263 - mean_squared_error: 0.3263\n",
      "Epoch 18/20\n",
      "17/17 [==============================] - 0s 2ms/step - loss: 0.3275 - mean_squared_error: 0.3275\n",
      "Epoch 19/20\n",
      "17/17 [==============================] - 0s 2ms/step - loss: 0.3251 - mean_squared_error: 0.3251\n",
      "Epoch 20/20\n",
      "17/17 [==============================] - 0s 2ms/step - loss: 0.3251 - mean_squared_error: 0.3251\n"
     ]
    },
    {
     "data": {
      "image/png": "[encoded data removed]",
      "text/plain": [
       "<Figure size 640x480 with 1 Axes>"
      ]
     },
     "metadata": {},
     "output_type": "display_data"
    },
    {
     "name": "stdout",
     "output_type": "stream",
     "text": [
      "\n",
      " Evaluate the new model against the test set:\n",
      "WARNING:tensorflow:Layers in a Sequential model should only have a single input tensor. Received: inputs={'longitude': <tf.Tensor 'IteratorGetNext:3' shape=(1000,) dtype=float32>, 'latitude': <tf.Tensor 'IteratorGetNext:2' shape=(1000,) dtype=float32>, 'housing_median_age': <tf.Tensor 'IteratorGetNext:1' shape=(1000,) dtype=float32>, 'total_rooms': <tf.Tensor 'IteratorGetNext:7' shape=(1000,) dtype=float32>, 'total_bedrooms': <tf.Tensor 'IteratorGetNext:6' shape=(1000,) dtype=float32>, 'population': <tf.Tensor 'IteratorGetNext:5' shape=(1000,) dtype=float32>, 'households': <tf.Tensor 'IteratorGetNext:0' shape=(1000,) dtype=float32>, 'median_income': <tf.Tensor 'IteratorGetNext:4' shape=(1000,) dtype=float32>}. Consider rewriting this model with the Functional API.\n",
      "3/3 [==============================] - 0s 3ms/step - loss: 0.3691 - mean_squared_error: 0.3691\n"
     ]
    },
    {
     "data": {
      "text/plain": [
       "[0.3691190481185913, 0.3691190481185913]"
      ]
     },
     "execution_count": 14,
     "metadata": {},
     "output_type": "execute_result"
    }
   ],
   "source": [
    "# Hyperparameters.\n",
    "learning_rate = 0.01\n",
    "epochs = 20\n",
    "batch_size = 1000\n",
    "\n",
    "label_name = \"median_house_value\"\n",
    "\n",
    "my_model = create_model(learning_rate, my_feature_layer)\n",
    "\n",
    "epochs, mse = train_model(my_model, train_df_norm, epochs, label_name, batch_size)\n",
    "plot_the_loss_curve(epochs, mse)\n",
    "\n",
    "# Test the model\n",
    "test_features = {name:np.array(value) for name, value in test_df_norm.items()}\n",
    "test_label = np.array(test_features.pop(label_name))\n",
    "print(\"\\n Evaluate the new model against the test set:\")\n",
    "my_model.evaluate(x=test_features, y=test_label, batch_size=batch_size)"
   ]
  },
  {
   "cell_type": "code",
   "execution_count": null,
   "metadata": {},
   "outputs": [],
   "source": []
  }
 ],
 "metadata": {
  "kernelspec": {
   "display_name": "tf2.11",
   "language": "python",
   "name": "python3"
  },
  "language_info": {
   "codemirror_mode": {
    "name": "ipython",
    "version": 3
   },
   "file_extension": ".py",
   "mimetype": "text/x-python",
   "name": "python",
   "nbconvert_exporter": "python",
   "pygments_lexer": "ipython3",
   "version": "3.10.0"
  },
  "orig_nbformat": 4,
  "vscode": {
   "interpreter": {
    "hash": "4fd1d7371a990379a28203bebafbc67e68666423e9a038914ec6151938a890aa"
   }
  }
 },
 "nbformat": 4,
 "nbformat_minor": 2
}
